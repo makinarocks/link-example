{
 "cells": [
  {
   "cell_type": "code",
   "execution_count": 1,
   "id": "36fd5189-119f-4ef1-b9d2-ce90c042e714",
   "metadata": {
    "canvas": {
     "comments": [],
     "componentType": "CodeCell",
     "copiedOriginId": null,
     "hasOpendPDC": false,
     "headerColor": "none",
     "id": "1fa8f140-5b44-403a-a16f-493166d62721",
     "isComponent": false,
     "meta_id": "36fd5189-119f-4ef1-b9d2-ce90c042e714",
     "name": "",
     "parents": [],
     "preDefined": null
    },
    "tags": []
   },
   "outputs": [],
   "source": [
    "#\n",
    "#  MAKINAROCKS CONFIDENTIAL\n",
    "#  ________________________\n",
    "#\n",
    "#  [2017] - [2022] MakinaRocks Co., Ltd.\n",
    "#  All Rights Reserved.\n",
    "#\n",
    "#  NOTICE:  All information contained herein is, and remains\n",
    "#  the property of MakinaRocks Co., Ltd. and its suppliers, if any.\n",
    "#  The intellectual and technical concepts contained herein are\n",
    "#  proprietary to MakinaRocks Co., Ltd. and its suppliers and may be\n",
    "#  covered by U.S. and Foreign Patents, patents in process, and\n",
    "#  are protected by trade secret or copyright law. Dissemination\n",
    "#  of this information or reproduction of this material is\n",
    "#  strictly forbidden unless prior written permission is obtained\n",
    "#  from MakinaRocks Co., Ltd.\n",
    "# from erase_me import erase_me_after_repo_created"
   ]
  },
  {
   "cell_type": "code",
   "execution_count": 2,
   "id": "0ba0b3c3-fb86-4f4e-9e4c-976d047dc6f9",
   "metadata": {
    "canvas": {
     "comments": [],
     "componentType": "CodeCell",
     "copiedOriginId": null,
     "hasOpendPDC": false,
     "headerColor": "none",
     "id": "11e00980-054e-4903-9d2d-f217ede13109",
     "isComponent": false,
     "meta_id": "0ba0b3c3-fb86-4f4e-9e4c-976d047dc6f9",
     "name": "",
     "parents": [],
     "preDefined": null
    }
   },
   "outputs": [],
   "source": [
    "def test_sample() -> None:\n",
    "    # remove this test when tests/ are setted.\n",
    "    print(\"Hello, World!\")"
   ]
  },
  {
   "cell_type": "code",
   "execution_count": null,
   "id": "1877e74f-8ecd-4292-96b6-0abcaa17974a",
   "metadata": {
    "canvas": {
     "comments": [],
     "componentType": "CodeCell",
     "copiedOriginId": null,
     "hasOpendPDC": false,
     "headerColor": "none",
     "id": "4fbc32e1-8f27-4b5f-b90a-c5559336e672",
     "isComponent": false,
     "meta_id": "1877e74f-8ecd-4292-96b6-0abcaa17974a",
     "name": "",
     "parents": [],
     "preDefined": null
    }
   },
   "outputs": [],
   "source": []
  }
 ],
 "metadata": {
  "canvas": {
   "colorPalette": [
    "inherit",
    "inherit",
    "inherit",
    "inherit",
    "inherit",
    "inherit",
    "inherit",
    "inherit",
    "inherit",
    "inherit"
   ],
   "parameters": []
  },
  "kernelspec": {
   "display_name": "Python 3 (ipykernel)",
   "language": "python",
   "name": "python3"
  },
  "language_info": {
   "codemirror_mode": {
    "name": "ipython",
    "version": 3
   },
   "file_extension": ".py",
   "mimetype": "text/x-python",
   "name": "python",
   "nbconvert_exporter": "python",
   "pygments_lexer": "ipython3",
   "version": "3.8.13"
  }
 },
 "nbformat": 4,
 "nbformat_minor": 5
}
