{
 "cells": [
  {
   "cell_type": "code",
   "execution_count": 1,
   "id": "411603d9-e998-4c70-b994-585e213a7532",
   "metadata": {
    "canvas": {
     "comments": [],
     "componentType": "CodeCell",
     "copiedOriginId": null,
     "hasOpendPDC": false,
     "headerColor": "none",
     "id": "cf877325-016a-4f97-a800-fe4e5039f652",
     "isComponent": false,
     "meta_id": "411603d9-e998-4c70-b994-585e213a7532",
     "name": "",
     "parents": [],
     "preDefined": null
    }
   },
   "outputs": [],
   "source": [
    "#\n",
    "#  MAKINAROCKS CONFIDENTIAL\n",
    "#  ________________________\n",
    "#\n",
    "#  [2017] - [2022] MakinaRocks Co., Ltd.\n",
    "#  All Rights Reserved.\n",
    "#\n",
    "#  NOTICE:  All information contained herein is, and remains\n",
    "#  the property of MakinaRocks Co., Ltd. and its suppliers, if any.\n",
    "#  The intellectual and technical concepts contained herein are\n",
    "#  proprietary to MakinaRocks Co., Ltd. and its suppliers and may be\n",
    "#  covered by U.S. and Foreign Patents, patents in process, and\n",
    "#  are protected by trade secret or copyright law. Dissemination\n",
    "#  of this information or reproduction of this material is\n",
    "#  strictly forbidden unless prior written permission is obtained\n",
    "#  from MakinaRocks Co., Ltd."
   ]
  },
  {
   "cell_type": "code",
   "execution_count": 5,
   "id": "51c4cf4e-a676-4746-b938-3e854e62d466",
   "metadata": {
    "canvas": {
     "comments": [],
     "componentType": "CodeCell",
     "copiedOriginId": null,
     "hasOpendPDC": false,
     "headerColor": "none",
     "id": "c17f7098-dfee-4e9d-94e8-07c7913ba27d",
     "isComponent": false,
     "meta_id": "51c4cf4e-a676-4746-b938-3e854e62d466",
     "name": "",
     "parents": [],
     "preDefined": null
    },
    "tags": []
   },
   "outputs": [],
   "source": [
    "import random\n",
    "import time\n",
    "from typing import List"
   ]
  },
  {
   "cell_type": "code",
   "execution_count": 6,
   "id": "83b81b5f-9ab5-4ca1-ba75-e53a8527ff3e",
   "metadata": {
    "canvas": {
     "comments": [],
     "componentType": "CodeCell",
     "copiedOriginId": null,
     "hasOpendPDC": false,
     "headerColor": "none",
     "id": "67c885c3-085f-4c92-af43-3b83839eaa0b",
     "isComponent": false,
     "meta_id": "83b81b5f-9ab5-4ca1-ba75-e53a8527ff3e",
     "name": "",
     "parents": [],
     "preDefined": null
    },
    "tags": []
   },
   "outputs": [],
   "source": [
    "def func(nums: List[int]) -> int:\n",
    "    \"\"\"\n",
    "    Test docsting\n",
    "    \"\"\"\n",
    "    ans = 0\n",
    "    for i in nums:\n",
    "        ans += i\n",
    "    return ans"
   ]
  },
  {
   "cell_type": "code",
   "execution_count": 7,
   "id": "52babf8e-2755-431c-892d-2f83b0d3b57d",
   "metadata": {
    "canvas": {
     "comments": [],
     "componentType": "CodeCell",
     "copiedOriginId": null,
     "hasOpendPDC": false,
     "headerColor": "none",
     "id": "fd9da546-4a2f-4960-84c4-cb63a677a77e",
     "isComponent": false,
     "meta_id": "52babf8e-2755-431c-892d-2f83b0d3b57d",
     "name": "",
     "parents": [],
     "preDefined": null
    },
    "tags": []
   },
   "outputs": [
    {
     "name": "stdout",
     "output_type": "stream",
     "text": [
      "1648616618.2753243\n",
      "0.9793982517671729\n",
      "23\n"
     ]
    }
   ],
   "source": [
    "print(time.time())\n",
    "print(random.random())\n",
    "print(func([1, 5, 6, 11]))"
   ]
  },
  {
   "cell_type": "code",
   "execution_count": null,
   "id": "c59f9393-bf6d-4217-9e83-6eba647d5afb",
   "metadata": {
    "canvas": {
     "comments": [],
     "componentType": "CodeCell",
     "copiedOriginId": null,
     "hasOpendPDC": false,
     "headerColor": "none",
     "id": "5c8de405-801c-4d01-b17b-92afa463a539",
     "isComponent": false,
     "meta_id": "c59f9393-bf6d-4217-9e83-6eba647d5afb",
     "name": "",
     "parents": [],
     "preDefined": null
    }
   },
   "outputs": [],
   "source": []
  }
 ],
 "metadata": {
  "canvas": {
   "colorPalette": [
    "inherit",
    "inherit",
    "inherit",
    "inherit",
    "inherit",
    "inherit",
    "inherit",
    "inherit",
    "inherit",
    "inherit"
   ],
   "parameters": []
  },
  "kernelspec": {
   "display_name": "Python 3 (ipykernel)",
   "language": "python",
   "name": "python3"
  },
  "language_info": {
   "codemirror_mode": {
    "name": "ipython",
    "version": 3
   },
   "file_extension": ".py",
   "mimetype": "text/x-python",
   "name": "python",
   "nbconvert_exporter": "python",
   "pygments_lexer": "ipython3",
   "version": "3.8.13"
  }
 },
 "nbformat": 4,
 "nbformat_minor": 5
}
