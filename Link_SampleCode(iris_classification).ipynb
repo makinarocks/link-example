{
 "cells": [
  {
   "cell_type": "code",
   "execution_count": null,
   "id": "e6daf81c-39ff-44bd-b5b3-a5ae85532d5e",
   "metadata": {
    "canvas": {
     "comments": [],
     "componentType": "CodeCell",
     "copiedOriginId": "28461a4d-8513-4c7a-aeaf-9a869844bf9c",
     "headerColor": "inherit",
     "id": "7702a15c-d68f-492e-b3e2-43bce7f25c8c",
     "isComponent": false,
     "name": "",
     "parents": []
    },
    "tags": []
   },
   "outputs": [],
   "source": [
    "# If you need the package below, please delete the comment and install it. \n",
    "# This demo recommends using pytorch-lightning 1.6 or higher and torchmetrics 0.7.0 or higher. \n",
    "# !pip install sklearn torch \"pytorch_lightning>=1.6\" \"torchmetrics>=0.7.0\" livelossplot"
   ]
  },
  {
   "cell_type": "markdown",
   "id": "496466c9-747f-4165-b71a-08e9ae1af3bf",
   "metadata": {
    "canvas": {
     "comments": [],
     "componentType": "CodeCell",
     "copiedOriginId": "09eed00a-8990-4665-92c5-1d9654b0723d",
     "headerColor": "none",
     "id": "e5b1cf1b-ecc2-4060-82a8-679c226a3833",
     "isComponent": false,
     "name": "",
     "parents": []
    },
    "tags": []
   },
   "source": [
    "## Load iris data"
   ]
  },
  {
   "cell_type": "code",
   "execution_count": null,
   "id": "4869d963-6165-44ad-8803-2644b350857d",
   "metadata": {
    "canvas": {
     "comments": [],
     "componentType": "CodeCell",
     "copiedOriginId": "eef2dc4b-fb13-419b-a5af-f0031467c624",
     "headerColor": "none",
     "id": "ea60a934-8658-4129-9cef-e1bbc32f48d2",
     "isComponent": false,
     "name": "",
     "parents": []
    },
    "tags": []
   },
   "outputs": [],
   "source": [
    "from sklearn.datasets import load_iris\n",
    "\n",
    "data = load_iris()"
   ]
  },
  {
   "cell_type": "code",
   "execution_count": null,
   "id": "da2aae67-079d-459c-b42a-3867f6146ffb",
   "metadata": {
    "canvas": {
     "comments": [],
     "componentType": "CodeCell",
     "copiedOriginId": "7ead4282-e087-4d17-9d6e-eeb3134c060c",
     "headerColor": "none",
     "id": "b44fb00c-80eb-4ae4-ba64-9fb578ee4aa9",
     "isComponent": false,
     "name": "",
     "parents": []
    },
    "tags": []
   },
   "outputs": [],
   "source": [
    "data"
   ]
  },
  {
   "cell_type": "markdown",
   "id": "6745d3f2-199c-4402-8ceb-382f750cca1c",
   "metadata": {
    "canvas": {
     "comments": [],
     "componentType": "CodeCell",
     "copiedOriginId": "399d38a8-ddfb-40ea-a5fa-29d669a1a3c2",
     "headerColor": "none",
     "id": "1eb94bcc-1c0c-491f-b9a7-edd99dfb9fa3",
     "isComponent": false,
     "name": "",
     "parents": []
    },
    "tags": []
   },
   "source": [
    "## Create dataframe"
   ]
  },
  {
   "cell_type": "code",
   "execution_count": null,
   "id": "dbaf0c0b-593f-4293-a9c8-409887b130c5",
   "metadata": {
    "canvas": {
     "comments": [],
     "componentType": "CodeCell",
     "copiedOriginId": "cc60d6b2-ac7b-4963-860e-15753f04026f",
     "headerColor": "none",
     "id": "7f47bc5c-de01-41ba-aec2-08c194b882ed",
     "isComponent": false,
     "name": "",
     "parents": []
    },
    "tags": []
   },
   "outputs": [],
   "source": [
    "import numpy as np\n",
    "import pandas as pd\n",
    "\n",
    "df = pd.DataFrame(data[\"data\"], columns=data[\"feature_names\"])\n",
    "df[\"target\"] = data[\"target\"]"
   ]
  },
  {
   "cell_type": "code",
   "execution_count": null,
   "id": "caf2d27c-7fb3-4267-a197-a2444e9eca93",
   "metadata": {
    "canvas": {
     "comments": [],
     "componentType": "CodeCell",
     "copiedOriginId": "db3730cb-0435-4f2f-8f04-54efce27d5d8",
     "headerColor": "none",
     "id": "a6c6a980-4cba-4045-b320-768e2af907cb",
     "isComponent": false,
     "name": "",
     "parents": []
    },
    "tags": []
   },
   "outputs": [],
   "source": [
    "data[\"data\"].astype(float).dtype"
   ]
  },
  {
   "cell_type": "markdown",
   "id": "3a6ebe43-883d-4d72-b5f2-792ee6973294",
   "metadata": {
    "canvas": {
     "comments": [],
     "componentType": "CodeCell",
     "copiedOriginId": "0264c406-d9dd-43c0-959b-4cb45a4a342e",
     "headerColor": "none",
     "id": "14cc1c00-5523-4890-8092-65a4db512433",
     "isComponent": false,
     "name": "",
     "parents": []
    }
   },
   "source": [
    "## Train/valid split"
   ]
  },
  {
   "cell_type": "code",
   "execution_count": null,
   "id": "a9f18f8c-8510-490e-807f-c7c1fc3e00e0",
   "metadata": {
    "canvas": {
     "comments": [],
     "componentType": "CodeCell",
     "copiedOriginId": "99e0b9ab-ef73-4805-8628-8ef0e9811e5e",
     "headerColor": "none",
     "id": "35bb8cc2-eee3-4857-8f2d-ce2e810ee848",
     "isComponent": false,
     "name": "",
     "parents": []
    },
    "tags": []
   },
   "outputs": [],
   "source": [
    "import numpy as np\n",
    "\n",
    "train_ratio = 0.7\n",
    "train_len = int(train_ratio * len(df))\n",
    "indices = np.random.permutation(df.index)\n",
    "train_indices = indices[:train_len]\n",
    "valid_indices = indices[train_len:]"
   ]
  },
  {
   "cell_type": "markdown",
   "id": "eb7e8f3a-fd0c-465a-84d3-778d84014026",
   "metadata": {
    "canvas": {
     "comments": [],
     "componentType": "CodeCell",
     "copiedOriginId": "d7f758b7-2de2-4add-9baa-0aa98e1f67e7",
     "headerColor": "none",
     "id": "dea2a5de-2485-4c7b-8ce1-e5979be26e6d",
     "isComponent": false,
     "name": "",
     "parents": []
    }
   },
   "source": [
    "## Create dataloaders"
   ]
  },
  {
   "cell_type": "code",
   "execution_count": null,
   "id": "43f21883-ce63-46c0-9c40-100b8fb48f60",
   "metadata": {
    "canvas": {
     "comments": [],
     "componentType": "CodeCell",
     "copiedOriginId": "90b151b8-5c3d-48a2-b145-cf20d413d411",
     "headerColor": "none",
     "id": "da9f8eb3-7d26-4044-9d30-c6cb21530085",
     "isComponent": false,
     "name": "",
     "parents": []
    },
    "tags": []
   },
   "outputs": [],
   "source": [
    "import torch\n",
    "from torch.utils.data import DataLoader, TensorDataset, Subset\n",
    "\n",
    "dataset = TensorDataset(torch.from_numpy(df.loc[:, data[\"feature_names\"]].values).float(), torch.from_numpy(df.loc[:, \"target\"].values).long())\n",
    "train_loader = DataLoader(Subset(dataset, train_indices), batch_size=20)\n",
    "valid_loader = DataLoader(Subset(dataset, valid_indices), batch_size=len(valid_indices))"
   ]
  },
  {
   "cell_type": "code",
   "execution_count": null,
   "id": "31a35b61-2bbe-4f11-9eac-a2dbbdbbd7e9",
   "metadata": {
    "canvas": {
     "comments": [],
     "componentType": "CodeCell",
     "copiedOriginId": "4cdaf206-85df-462e-9732-6320ce62e809",
     "headerColor": "none",
     "id": "f5e4f91c-c163-4edb-bbb7-d6d6e221a370",
     "isComponent": false,
     "name": "",
     "parents": []
    }
   },
   "outputs": [],
   "source": [
    "valid_loader"
   ]
  },
  {
   "cell_type": "markdown",
   "id": "c0658be1-9d6e-44bc-9582-05e79e13a996",
   "metadata": {
    "canvas": {
     "comments": [],
     "componentType": "CodeCell",
     "copiedOriginId": "ce720e08-919f-434c-957f-4dd4a34c7a0f",
     "headerColor": "none",
     "id": "44632db5-67f6-433e-b3cb-f9bc44b4ce07",
     "isComponent": false,
     "name": "",
     "parents": []
    }
   },
   "source": [
    "## Define pl model"
   ]
  },
  {
   "cell_type": "code",
   "execution_count": null,
   "id": "962dc241-3ab6-40ea-b9ac-11319f17de2e",
   "metadata": {
    "canvas": {
     "comments": [],
     "componentType": "CodeCell",
     "copiedOriginId": "c68dd5c0-4948-447f-83a5-51fd8856d231",
     "headerColor": "none",
     "id": "964f0b9a-dab5-48a3-88d3-5bdffcc53d49",
     "isComponent": false,
     "name": "",
     "parents": []
    },
    "tags": []
   },
   "outputs": [],
   "source": [
    "from typing import Union, Dict, List, Any\n",
    "import torch\n",
    "import torchmetrics\n",
    "import pytorch_lightning as pl\n",
    "\n",
    "class Classifier(pl.LightningModule):\n",
    "    \n",
    "    def __init__(self):\n",
    "        super().__init__()\n",
    "\n",
    "        self._metrics: Dict[str, Dict[str, Any]] = {\n",
    "            \"train\": {\n",
    "                \"acc\": torchmetrics.Accuracy(task=\"multiclass\", num_classes=3),\n",
    "            },\n",
    "            \"valid\": {\n",
    "                \"acc\": torchmetrics.Accuracy(task=\"multiclass\", num_classes=3),\n",
    "            },\n",
    "        }\n",
    "        seq = [\n",
    "            torch.nn.Linear(4, 5),\n",
    "            torch.nn.ReLU(),\n",
    "            torch.nn.Linear(5, 8),\n",
    "            torch.nn.ReLU(),\n",
    "            torch.nn.Linear(8, 5),\n",
    "            torch.nn.ReLU(),\n",
    "            torch.nn.Linear(5, 3),\n",
    "            torch.nn.Softmax(),\n",
    "        ]\n",
    "        self.fcn: torch.nn.Sequential = torch.nn.Sequential(*seq)\n",
    "\n",
    "    def forward(self, x: torch.Tensor) -> Any:\n",
    "        \"\"\"\n",
    "        Documentation.\n",
    "        Parameters\n",
    "        ----------\n",
    "        x: torch.Tensor\n",
    "        Returns\n",
    "        -------\n",
    "        Any\n",
    "        \"\"\"\n",
    "        return self.fcn(x)\n",
    "\n",
    "    def training_step(self, train_batch: torch.Tensor, batch_idx: int) -> Union[torch.Tensor, Dict[str, Any]]:\n",
    "        batch_x, batch_y = train_batch\n",
    "        batch_y_hat: torch.Tensor = self(batch_x)\n",
    "        loss = torch.nn.CrossEntropyLoss()(batch_y_hat, batch_y)\n",
    "        self.log(\"train_loss\", loss, on_epoch=True)\n",
    "\n",
    "        train_metrics: List[Dict[str, Any]] = self._metrics[\"train\"]\n",
    "        for name, metric in train_metrics.items():\n",
    "            self.log(\"Train: {0}\".format(name), metric(torch.argmax(batch_y_hat, dim=1), batch_y), on_epoch=True)\n",
    "        return loss\n",
    "\n",
    "    def validation_step(self, valid_batch: torch.Tensor, batch_idx: int) -> None:\n",
    "        batch_x, batch_y = valid_batch\n",
    "\n",
    "        batch_y_hat: torch.Tensor = self(batch_x)\n",
    "        loss = torch.nn.CrossEntropyLoss()(batch_y_hat, batch_y)\n",
    "        self.log(\"valid_loss\", loss, on_epoch=True)\n",
    "        for name, metric in self._metrics[\"valid\"].items():\n",
    "            self.log(\"Valid: {0}\".format(name), metric(torch.argmax(batch_y_hat, dim=1), batch_y), on_epoch=True)\n",
    "\n",
    "    def configure_optimizers(self) -> Any:\n",
    "        optimizer = torch.optim.Adam(self.parameters(), lr=1e-3)\n",
    "        return optimizer"
   ]
  },
  {
   "cell_type": "markdown",
   "id": "b078646c-2116-403f-afd0-5182045700ce",
   "metadata": {
    "canvas": {
     "comments": [],
     "componentType": "CodeCell",
     "copiedOriginId": "e44ffe99-4b92-48c2-ac33-cdf8051e688a",
     "headerColor": "none",
     "id": "6885b5c1-d5d7-48f4-9b0c-bdd4b5ee8f66",
     "isComponent": false,
     "name": "",
     "parents": []
    }
   },
   "source": [
    "## Create pl model"
   ]
  },
  {
   "cell_type": "code",
   "execution_count": null,
   "id": "bd6e6209-4d3f-4c68-b211-d8fde54d0fce",
   "metadata": {
    "canvas": {
     "comments": [],
     "componentType": "CodeCell",
     "copiedOriginId": "ccee2dd0-8ca1-49b1-aa96-aeb3a9cca728",
     "headerColor": "none",
     "id": "2bc7816b-c947-4d6f-892f-e0db93d5b982",
     "isComponent": false,
     "name": "",
     "parents": []
    },
    "tags": []
   },
   "outputs": [],
   "source": [
    "model = Classifier()"
   ]
  },
  {
   "cell_type": "markdown",
   "id": "ba871cb4-5639-4282-b545-6ac84b86bd6f",
   "metadata": {
    "canvas": {
     "comments": [],
     "componentType": "CodeCell",
     "copiedOriginId": "683f94a7-2159-487e-bfd7-3579786aa2e7",
     "headerColor": "none",
     "id": "2fc02568-c984-45aa-93f3-5c87983de2dd",
     "isComponent": false,
     "name": "",
     "parents": []
    }
   },
   "source": [
    "## Define liveplot logger"
   ]
  },
  {
   "cell_type": "code",
   "execution_count": null,
   "id": "e0973888-a208-4417-a751-992486e93559",
   "metadata": {
    "canvas": {
     "comments": [],
     "componentType": "CodeCell",
     "copiedOriginId": "4499176e-1f68-4dcb-b4d3-b9271c143e3a",
     "headerColor": "none",
     "id": "268cfa1a-531c-4404-976a-6e97384ac5b0",
     "isComponent": false,
     "name": "",
     "parents": []
    },
    "tags": []
   },
   "outputs": [],
   "source": [
    "import argparse\n",
    "from typing import Any, Dict, Optional\n",
    "from livelossplot import PlotLosses\n",
    "from pytorch_lightning.loggers import LightningLoggerBase\n",
    "from pytorch_lightning.loggers.base import rank_zero_experiment\n",
    "from pytorch_lightning.utilities import rank_zero_only, types\n",
    "\n",
    "\n",
    "class PlotLossesLogger(LightningLoggerBase):\n",
    "    \"\"\"Canvas Logger for lightning trainers\n",
    "    Args:\n",
    "        LightningLoggerBase ([type]): [description]\n",
    "    \"\"\"\n",
    "\n",
    "    def __init__(self, experiment=\"tmp\", max_epoch=None, **kwargs):\n",
    "        super().__init__()\n",
    "        self._plotlosses = PlotLosses(**kwargs).reset_outputs().to_matplotlib(max_epoch=max_epoch)\n",
    "        self._experiment = experiment\n",
    "        self._last_epoch = 0\n",
    "        self._last_metrics = {}\n",
    "\n",
    "    @property  # type: ignore\n",
    "    @rank_zero_experiment\n",
    "    def experiment(self) -> str:\n",
    "        return self._experiment\n",
    "\n",
    "    @rank_zero_only\n",
    "    def log_hyperparams(self, params: argparse.Namespace, *args: Any, **kwargs: Any) -> None:\n",
    "        pass\n",
    "\n",
    "    @rank_zero_only\n",
    "    def log_metrics(self, metrics: Dict[str, Any], step: Optional[int] = None) -> None:\n",
    "        if metrics[\"epoch\"] > self._last_epoch and \"valid_loss\" in metrics:\n",
    "            # Update accumulated metrics\n",
    "            if \"train_loss_step\" in self._last_metrics:\n",
    "                self._last_metrics.pop(\"train_loss_step\")\n",
    "            self._plotlosses.update(self._last_metrics)\n",
    "            self._plotlosses.send()\n",
    "            self._last_epoch = metrics.pop(\"epoch\")\n",
    "            self._last_metrics = metrics\n",
    "        else:\n",
    "            metrics.pop(\"epoch\")\n",
    "            self._last_metrics = {**self._last_metrics, **metrics}\n",
    "\n",
    "    @property\n",
    "    def name(self) -> str:\n",
    "        return \"canvas\"\n",
    "\n",
    "    @property\n",
    "    def version(self) -> str:\n",
    "        return \"prototype\""
   ]
  },
  {
   "cell_type": "markdown",
   "id": "d26630db-0bc7-4dd4-8e5b-6ac28cdc28de",
   "metadata": {
    "canvas": {
     "comments": [],
     "componentType": "CodeCell",
     "copiedOriginId": "a40c2a7b-2d6e-44d9-b324-14965b36e94c",
     "headerColor": "none",
     "id": "4ac688a5-1c85-45b5-9cd4-f98707e40674",
     "isComponent": false,
     "name": "",
     "parents": []
    }
   },
   "source": [
    "## Train model"
   ]
  },
  {
   "cell_type": "code",
   "execution_count": null,
   "id": "cb628aaf-03e9-4e3a-bc9b-0597fcbbcaf7",
   "metadata": {
    "canvas": {
     "comments": [],
     "componentType": "CodeCell",
     "copiedOriginId": "e5873610-eae0-44bb-9afe-c6a998def201",
     "headerColor": "none",
     "id": "b0ac5426-1782-4b96-9499-06704770a75f",
     "isComponent": false,
     "name": "",
     "parents": []
    },
    "tags": []
   },
   "outputs": [],
   "source": [
    "max_epoch = 10\n",
    "logger = PlotLossesLogger(\n",
    "    groups={\"loss\": [\"train_loss_epoch\", \"valid_loss\"], \"Accuracy\": [\"Train: acc_epoch\", \"Valid: acc\"]},\n",
    "    max_epoch=max_epoch,\n",
    ")\n",
    "trainer = pl.Trainer(max_epochs=max_epoch, logger=[logger], enable_progress_bar=False)\n",
    "trainer.fit(model, train_loader, valid_loader)"
   ]
  },
  {
   "cell_type": "code",
   "execution_count": null,
   "id": "7fcd3e01-e0ad-41cd-87a3-7c41e66aadb1",
   "metadata": {
    "canvas": {
     "comments": [],
     "componentType": "CodeCell",
     "copiedOriginId": "466d0504-428b-423b-a9f3-31509df7e7c9",
     "headerColor": "none",
     "id": "e71e6773-53e2-4c64-befc-c8bf73a82c38",
     "isComponent": false,
     "name": "",
     "parents": []
    }
   },
   "outputs": [],
   "source": []
  }
 ],
 "metadata": {
  "canvas": {
   "parameters": [
    {
     "name": "a",
     "type": "int",
     "value": "12"
    }
   ],
   "version": "1.0"
  },
  "kernelspec": {
   "display_name": "Python 3.8 (Link)",
   "language": "python",
   "name": "python3"
  },
  "language_info": {
   "codemirror_mode": {
    "name": "ipython",
    "version": 3
   },
   "file_extension": ".py",
   "mimetype": "text/x-python",
   "name": "python",
   "nbconvert_exporter": "python",
   "pygments_lexer": "ipython3",
   "version": "3.8.12"
  }
 },
 "nbformat": 4,
 "nbformat_minor": 5
}
