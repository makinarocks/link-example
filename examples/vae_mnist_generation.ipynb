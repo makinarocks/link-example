{
 "cells": [
  {
   "cell_type": "markdown",
   "id": "825c742f-0ae7-4e3f-99b7-e8420c9c5152",
   "metadata": {
    "canvas": {
     "comments": [],
     "componentType": "CodeCell",
     "copiedOriginId": null,
     "headerColor": "none",
     "id": "fb702cab-f44c-4821-8dbf-9d9c24e01df5",
     "isComponent": false,
     "name": "",
     "parents": []
    },
    "tags": []
   },
   "source": [
    "# MNIST image generation with VAE (Variational AutoEncoder)\n",
    "\n",
    "Adapted from: https://github.com/Atcold/pytorch-Deep-Learning/blob/master/11-VAE.ipynb"
   ]
  },
  {
   "cell_type": "markdown",
   "id": "8889f014-a2b2-4aac-ac93-ba019a58e02b",
   "metadata": {
    "canvas": {
     "comments": [],
     "componentType": "CodeCell",
     "copiedOriginId": null,
     "headerColor": "none",
     "id": "de9083c7-d0c6-40ff-9359-e65cb47f0abc",
     "isComponent": false,
     "name": "",
     "parents": []
    }
   },
   "source": [
    "## Cell color\n",
    "- Red: Related to model definition and training\n",
    "- Skyblue: Related to visualization"
   ]
  },
  {
   "cell_type": "markdown",
   "id": "63beefa1-e9d0-4dc1-a66f-b8d3387e73ce",
   "metadata": {
    "canvas": {
     "comments": [],
     "componentType": "CodeCell",
     "copiedOriginId": "605ad26a-ef2f-4ec8-90d1-66cd110e78b9",
     "headerColor": "inherit",
     "id": "a0f5365f-2200-4753-961c-70292c3a92da",
     "isComponent": false,
     "name": "",
     "parents": []
    },
    "tags": []
   },
   "source": [
    "### Required Python Packages\n",
    "- `matplotlib`\n",
    "- `numpy`\n",
    "- `torch`\n",
    "- `torchvision`\n",
    "- `tqdm`\n",
    "\n",
    "Run the following cell to install the packages."
   ]
  },
  {
   "cell_type": "code",
   "execution_count": null,
   "id": "8cea0307-1d27-4007-9884-ff2dd74f0f1d",
   "metadata": {
    "canvas": {
     "comments": [],
     "componentType": "CodeCell",
     "copiedOriginId": "7f467622-294c-4628-9e6e-526c2c3c3851",
     "headerColor": "inherit",
     "id": "b028aee1-1d70-4aea-9e8e-13fd7299abfa",
     "isComponent": false,
     "name": "",
     "parents": []
    }
   },
   "outputs": [],
   "source": [
    "# package install\n",
    "!pip install \"matplotlib>=3.5\"\n",
    "!pip install \"numpy>=1.22\"\n",
    "!pip install \"torch>=1.9+cpu\"\n",
    "!pip install \"torchvision>=0.10.1+cpu\"\n",
    "!pip install \"tqdm>=4.64\""
   ]
  },
  {
   "cell_type": "code",
   "execution_count": 1,
   "id": "0fc9bc91-150f-4753-a15e-9178fe1fea54",
   "metadata": {
    "canvas": {
     "comments": [],
     "componentType": "CodeCell",
     "copiedOriginId": null,
     "headerColor": "none",
     "id": "341de75f-bacb-4af8-9269-f974f4547ca8",
     "isComponent": true,
     "name": "Import packages",
     "parents": []
    },
    "tags": []
   },
   "outputs": [],
   "source": [
    "import matplotlib.pyplot as plt\n",
    "import numpy\n",
    "import torch\n",
    "import torch.nn as nn\n",
    "import torch.nn.functional as F\n",
    "from torch.utils.data import DataLoader\n",
    "from torchvision import datasets, transforms\n",
    "from tqdm import tqdm"
   ]
  },
  {
   "cell_type": "code",
   "execution_count": null,
   "id": "c9bd0ac8-2385-42ea-ae19-53283570d407",
   "metadata": {
    "canvas": {
     "comments": [],
     "componentType": "CodeCell",
     "copiedOriginId": null,
     "headerColor": "inherit",
     "id": "e33a5f9f-8d1e-4c07-b6de-e4da9e84ea5e",
     "isComponent": true,
     "name": "Parameters",
     "parents": [
      {
       "id": "341de75f-bacb-4af8-9269-f974f4547ca8",
       "name": "Import packages"
      }
     ]
    },
    "tags": []
   },
   "outputs": [],
   "source": [
    "batch_size = 64\n",
    "learning_rate = 1e-3\n",
    "epochs = 10"
   ]
  },
  {
   "cell_type": "markdown",
   "id": "798532a2-3909-41ec-a2ff-f1ccc070870c",
   "metadata": {
    "canvas": {
     "comments": [],
     "componentType": "CodeCell",
     "copiedOriginId": null,
     "headerColor": "none",
     "id": "f0e2a43a-d5bd-4f6c-bb5b-8bfa3fae2dd9",
     "isComponent": false,
     "name": "",
     "parents": []
    },
    "tags": []
   },
   "source": [
    "### Load the Dataset (MNIST)"
   ]
  },
  {
   "cell_type": "code",
   "execution_count": 3,
   "id": "9de0ed7d-df92-4ed5-9edc-1cb789eec6d5",
   "metadata": {
    "canvas": {
     "comments": [],
     "componentType": "CodeCell",
     "copiedOriginId": null,
     "headerColor": "none",
     "id": "c1c9d3af-d77f-40cd-b145-3976174d3032",
     "isComponent": true,
     "name": "Load MNIST dataset",
     "parents": [
      {
       "id": "e33a5f9f-8d1e-4c07-b6de-e4da9e84ea5e",
       "name": "Parameters"
      }
     ]
    },
    "tags": []
   },
   "outputs": [],
   "source": [
    "\n",
    "\n",
    "# Define data loading step\n",
    "kwargs = {\"num_workers\": 4, \"pin_memory\": True}\n",
    "train_loader = DataLoader(\n",
    "    datasets.MNIST(\"mnist\", train=True, download=True, transform=transforms.ToTensor()),\n",
    "    batch_size=batch_size,\n",
    "    shuffle=True,\n",
    "    **kwargs,\n",
    ")\n",
    "test_loader = DataLoader(\n",
    "    datasets.MNIST(\"mnist\", train=False, transform=transforms.ToTensor()),\n",
    "    batch_size=batch_size,\n",
    "    shuffle=True,\n",
    "    **kwargs,\n",
    ")"
   ]
  },
  {
   "cell_type": "code",
   "execution_count": 7,
   "id": "f0fdb60f-e4c3-4446-a472-b95d4d11bf9b",
   "metadata": {
    "canvas": {
     "comments": [],
     "componentType": "CodeCell",
     "copiedOriginId": null,
     "headerColor": "#00E3FF",
     "id": "ee9b8b42-0765-4acc-af7e-fccc4a70491f",
     "isComponent": true,
     "name": "Show some images",
     "parents": [
      {
       "id": "c1c9d3af-d77f-40cd-b145-3976174d3032",
       "name": "Load MNIST dataset"
      }
     ]
    },
    "tags": []
   },
   "outputs": [
    {
     "data": {
      "image/png": "[encoded data removed]",
      "text/plain": [
       "<Figure size 1152x432 with 10 Axes>"
      ]
     },
     "metadata": {
      "needs_background": "light"
     },
     "output_type": "display_data"
    }
   ],
   "source": [
    "# show some images\n",
    "plt.figure(figsize=(16, 6))\n",
    "for i in range(10):\n",
    "    plt.subplot(2, 5, i + 1)\n",
    "    image, _ = train_loader.dataset.__getitem__(i)\n",
    "    plt.imshow(image.squeeze().numpy())\n",
    "    plt.axis(\"off\");"
   ]
  },
  {
   "cell_type": "markdown",
   "id": "f62a44cf-6cbe-41c9-8d0e-e4ed17c91a7f",
   "metadata": {
    "canvas": {
     "comments": [],
     "componentType": "CodeCell",
     "copiedOriginId": null,
     "headerColor": "none",
     "id": "a298fe26-4ff8-4c03-89c6-a1351a6253d2",
     "isComponent": false,
     "name": "",
     "parents": []
    }
   },
   "source": [
    "### Vanilla VAE"
   ]
  },
  {
   "cell_type": "code",
   "execution_count": 8,
   "id": "abe73dae-f8a5-4d36-9fbc-c6cb5e51295e",
   "metadata": {
    "canvas": {
     "comments": [],
     "componentType": "CodeCell",
     "copiedOriginId": null,
     "headerColor": "#FF004F",
     "id": "e9f3371a-e347-4564-80c1-f4e1a17da0d3",
     "isComponent": true,
     "name": "Define VAE",
     "parents": [
      {
       "id": "c1c9d3af-d77f-40cd-b145-3976174d3032",
       "name": "Load MNIST dataset"
      }
     ]
    },
    "tags": []
   },
   "outputs": [],
   "source": [
    "# Defining the model\n",
    "\n",
    "d = 20\n",
    "\n",
    "\n",
    "class VAE(nn.Module):\n",
    "    def __init__(self):\n",
    "        super().__init__()\n",
    "\n",
    "        self.encoder = nn.Sequential(nn.Linear(784, d**2), nn.ReLU(), nn.Linear(d**2, d * 2))\n",
    "\n",
    "        self.decoder = nn.Sequential(\n",
    "            nn.Linear(d, d**2),\n",
    "            nn.ReLU(),\n",
    "            nn.Linear(d**2, 784),\n",
    "            nn.Sigmoid(),\n",
    "        )\n",
    "\n",
    "    def reparameterise(self, mu, logvar):\n",
    "        if self.training:\n",
    "            std = logvar.mul(0.5).exp_()\n",
    "            eps = std.new_empty(std.size()).normal_().detach()\n",
    "            return eps.mul_(std).add_(mu)\n",
    "        else:\n",
    "            return mu\n",
    "\n",
    "    def forward(self, x):\n",
    "        mu_logvar = self.encoder(x.view(-1, 784)).view(-1, 2, d)\n",
    "        mu = mu_logvar[:, 0, :]\n",
    "        logvar = mu_logvar[:, 1, :]\n",
    "        z = self.reparameterise(mu, logvar)\n",
    "        return self.decoder(z), mu, logvar"
   ]
  },
  {
   "cell_type": "markdown",
   "id": "c0cfdabf-bd6d-4332-94d7-83fe12695584",
   "metadata": {
    "canvas": {
     "comments": [],
     "componentType": "CodeCell",
     "copiedOriginId": null,
     "headerColor": "none",
     "id": "67675843-5e88-41dd-b3e4-0fd8a69f0abb",
     "isComponent": false,
     "name": "",
     "parents": []
    }
   },
   "source": [
    "### Define loss function"
   ]
  },
  {
   "cell_type": "code",
   "execution_count": 9,
   "id": "e2ba2545-1905-40be-bc8d-18ef0ca782e6",
   "metadata": {
    "canvas": {
     "comments": [],
     "componentType": "CodeCell",
     "copiedOriginId": null,
     "headerColor": "#FF004F",
     "id": "e93082b9-135f-4c0c-9ddf-a8b788599667",
     "isComponent": true,
     "name": "Define loss function",
     "parents": [
      {
       "id": "e9f3371a-e347-4564-80c1-f4e1a17da0d3",
       "name": "Define VAE"
      }
     ]
    },
    "tags": []
   },
   "outputs": [],
   "source": [
    "# Reconstruction + beta * KL divergence losses summed over all elements and batch\n",
    "\n",
    "\n",
    "def loss_function(x_hat, x, mu, logvar, beta=1):\n",
    "    BCE = nn.functional.binary_cross_entropy(x_hat, x.view(-1, 784), reduction=\"sum\")\n",
    "    KLD = 0.5 * torch.sum(logvar.exp() - logvar - 1 + mu.pow(2))\n",
    "\n",
    "    return BCE + beta * KLD"
   ]
  },
  {
   "cell_type": "markdown",
   "id": "07b2c753-d3ce-4f09-adcd-257c5a515c0b",
   "metadata": {
    "canvas": {
     "comments": [],
     "componentType": "CodeCell",
     "copiedOriginId": null,
     "headerColor": "none",
     "id": "3810673c-b19b-4c9c-a3b5-3462a02080a7",
     "isComponent": false,
     "name": "",
     "parents": []
    }
   },
   "source": [
    "### Visualization function"
   ]
  },
  {
   "cell_type": "markdown",
   "id": "85c5dbbb-532a-47f0-846d-7b7aef911881",
   "metadata": {
    "canvas": {
     "comments": [],
     "componentType": "CodeCell",
     "copiedOriginId": null,
     "headerColor": "none",
     "id": "a2e18508-101e-4f6c-927b-a1175e5b0244",
     "isComponent": false,
     "name": "",
     "parents": []
    },
    "tags": []
   },
   "source": [
    "### Training process"
   ]
  },
  {
   "cell_type": "code",
   "execution_count": 10,
   "id": "81c54f25-8b86-4aeb-9d9b-0982452bdd7b",
   "metadata": {
    "canvas": {
     "comments": [],
     "componentType": "CodeCell",
     "copiedOriginId": null,
     "headerColor": "#00E3FF",
     "id": "64bafb82-5b64-4894-a09d-9a4e35202f04",
     "isComponent": true,
     "name": "Define image display function",
     "parents": [
      {
       "id": "341de75f-bacb-4af8-9269-f974f4547ca8",
       "name": "Import packages"
      }
     ]
    },
    "tags": []
   },
   "outputs": [],
   "source": [
    "def display_images(in_, out, n=1, label=None, count=False):\n",
    "    for N in range(n):\n",
    "        if in_ is not None:\n",
    "            in_pic = in_.data.cpu().view(-1, 28, 28)\n",
    "            plt.figure(figsize=(9, 2))\n",
    "            plt.suptitle(label + \" – real test data / reconstructions\", color=\"b\", fontsize=16)\n",
    "            for i in range(4):\n",
    "                plt.subplot(1, 4, i + 1)\n",
    "                plt.imshow(in_pic[i + 4 * N])\n",
    "                plt.axis(\"off\")\n",
    "        out_pic = out.data.cpu().view(-1, 28, 28)\n",
    "        plt.figure(figsize=(9, 3))\n",
    "        for i in range(4):\n",
    "            plt.subplot(1, 4, i + 1)\n",
    "            plt.imshow(out_pic[i + 4 * N])\n",
    "            plt.axis(\"off\")\n",
    "            if count:\n",
    "                plt.title(str(4 * N + i), color=\"w\")\n",
    "    plt.show()"
   ]
  },
  {
   "cell_type": "code",
   "execution_count": null,
   "id": "3b1bc35f-3ea6-43a3-a0ec-5247ed17afce",
   "metadata": {
    "canvas": {
     "comments": [],
     "componentType": "CodeCell",
     "copiedOriginId": null,
     "headerColor": "#FF004F",
     "id": "73fb295b-17e9-4ca6-a42f-02720231688c",
     "isComponent": true,
     "name": "Train VAE",
     "parents": [
      {
       "id": "e93082b9-135f-4c0c-9ddf-a8b788599667",
       "name": "Define loss function"
      },
      {
       "id": "64bafb82-5b64-4894-a09d-9a4e35202f04",
       "name": "Define image display function"
      }
     ]
    },
    "tags": []
   },
   "outputs": [
    {
     "name": "stdout",
     "output_type": "stream",
     "text": [
      "====> Test set loss: 543.2960\n"
     ]
    },
    {
     "data": {
      "image/png": "[encoded data removed]",
      "text/plain": [
       "<Figure size 648x144 with 4 Axes>"
      ]
     },
     "metadata": {
      "needs_background": "light"
     },
     "output_type": "display_data"
    },
    {
     "data": {
      "image/png": "[encoded data removed]",
      "text/plain": [
       "<Figure size 648x216 with 4 Axes>"
      ]
     },
     "metadata": {
      "needs_background": "light"
     },
     "output_type": "display_data"
    },
    {
     "name": "stdout",
     "output_type": "stream",
     "text": [
      "====> Epoch: 1 Average loss: 146.6536\n",
      "====> Test set loss: 109.5778\n"
     ]
    },
    {
     "data": {
      "image/png": "[encoded data removed]",
      "text/plain": [
       "<Figure size 648x144 with 4 Axes>"
      ]
     },
     "metadata": {
      "needs_background": "light"
     },
     "output_type": "display_data"
    },
    {
     "data": {
      "image/png": "[encoded data removed]",
      "text/plain": [
       "<Figure size 648x216 with 4 Axes>"
      ]
     },
     "metadata": {
      "needs_background": "light"
     },
     "output_type": "display_data"
    },
    {
     "name": "stdout",
     "output_type": "stream",
     "text": [
      "====> Epoch: 2 Average loss: 115.6705\n",
      "====> Test set loss: 103.8742\n"
     ]
    },
    {
     "data": {
      "image/png": "[encoded data removed]",
      "text/plain": [
       "<Figure size 648x144 with 4 Axes>"
      ]
     },
     "metadata": {
      "needs_background": "light"
     },
     "output_type": "display_data"
    },
    {
     "data": {
      "image/png": "[encoded data removed]",
      "text/plain": [
       "<Figure size 648x216 with 4 Axes>"
      ]
     },
     "metadata": {
      "needs_background": "light"
     },
     "output_type": "display_data"
    },
    {
     "name": "stdout",
     "output_type": "stream",
     "text": [
      "====> Epoch: 3 Average loss: 111.3788\n",
      "====> Test set loss: 99.8685\n"
     ]
    },
    {
     "data": {
      "image/png": "[encoded data removed]",
      "text/plain": [
       "<Figure size 648x144 with 4 Axes>"
      ]
     },
     "metadata": {
      "needs_background": "light"
     },
     "output_type": "display_data"
    },
    {
     "data": {
      "image/png": "[encoded data removed]",
      "text/plain": [
       "<Figure size 648x216 with 4 Axes>"
      ]
     },
     "metadata": {
      "needs_background": "light"
     },
     "output_type": "display_data"
    }
   ],
   "source": [
    "# Training and testing the VAE\n",
    "codes = dict(mu=list(), logvar=list(), y=list())\n",
    "device = torch.device(\"cuda:0\" if torch.cuda.is_available() else \"cpu\")\n",
    "model = VAE().to(device)\n",
    "optimizer = torch.optim.Adam(\n",
    "    model.parameters(),\n",
    "    lr=learning_rate,\n",
    ")\n",
    "\n",
    "\n",
    "def train_and_test(model):\n",
    "    for epoch in range(0, epochs + 1):\n",
    "        # Training\n",
    "        if epoch > 0:  # test untrained net first\n",
    "            model.train()\n",
    "            train_loss = 0\n",
    "            for x, _ in train_loader:\n",
    "                x = x.to(device)\n",
    "                # ===================forward=====================\n",
    "                x_hat, mu, logvar = model(x)\n",
    "                loss = loss_function(x_hat, x, mu, logvar)\n",
    "                train_loss += loss.item()\n",
    "                # ===================backward====================\n",
    "                optimizer.zero_grad()\n",
    "                loss.backward()\n",
    "                optimizer.step()\n",
    "            # ===================log========================\n",
    "            print(f\"====> Epoch: {epoch} Average loss: {train_loss / len(train_loader.dataset):.4f}\")\n",
    "\n",
    "        # Testing\n",
    "        means, logvars, labels = list(), list(), list()\n",
    "        with torch.no_grad():\n",
    "            model.eval()\n",
    "            test_loss = 0\n",
    "            for x, y in test_loader:\n",
    "                x = x.to(device)\n",
    "                # ===================forward=====================\n",
    "                x_hat, mu, logvar = model(x)\n",
    "                test_loss += loss_function(x_hat, x, mu, logvar).item()\n",
    "                # =====================log=======================\n",
    "                means.append(mu.detach())\n",
    "                logvars.append(logvar.detach())\n",
    "                labels.append(y.detach())\n",
    "        # ===================log========================\n",
    "        codes[\"mu\"].append(torch.cat(means))\n",
    "        codes[\"logvar\"].append(torch.cat(logvars))\n",
    "        codes[\"y\"].append(torch.cat(labels))\n",
    "        test_loss /= len(test_loader.dataset)\n",
    "        print(f\"====> Test set loss: {test_loss:.4f}\")\n",
    "        display_images(x, x_hat, 1, f\"Epoch {epoch}\")\n",
    "\n",
    "\n",
    "train_and_test(model)"
   ]
  },
  {
   "cell_type": "markdown",
   "id": "690c045b-f07c-4e63-a608-58abcab5cb88",
   "metadata": {
    "canvas": {
     "comments": [],
     "componentType": "CodeCell",
     "copiedOriginId": null,
     "headerColor": "none",
     "id": "55c262f8-927b-4fa2-a144-902d93cec844",
     "isComponent": false,
     "name": "",
     "parents": []
    }
   },
   "source": [
    "### Generating few samples with randomly sampled vectors"
   ]
  },
  {
   "cell_type": "code",
   "execution_count": null,
   "id": "84fb2ab9-1619-4b11-97f8-1bd8dab6d5d2",
   "metadata": {
    "canvas": {
     "comments": [],
     "componentType": "CodeCell",
     "copiedOriginId": null,
     "headerColor": "#00E3FF",
     "id": "38bb92df-0247-47ce-bc3b-57ffbd90a436",
     "isComponent": true,
     "name": "Generate few samples",
     "parents": [
      {
       "id": "73fb295b-17e9-4ca6-a42f-02720231688c",
       "name": "Train VAE"
      }
     ]
    },
    "tags": []
   },
   "outputs": [],
   "source": [
    "# Generating a few samples\n",
    "N = 16\n",
    "z = torch.randn((N, d)).to(device)\n",
    "sample = model.decoder(z)\n",
    "display_images(None, sample, N // 4, count=True)"
   ]
  },
  {
   "cell_type": "markdown",
   "id": "cf2ad8fa-ae8c-4d5d-aa2a-fdbe84186eaa",
   "metadata": {
    "canvas": {
     "comments": [],
     "componentType": "CodeCell",
     "copiedOriginId": null,
     "headerColor": "none",
     "id": "9609e541-cef9-423a-a362-6ccb80d11989",
     "isComponent": false,
     "name": "",
     "parents": []
    }
   },
   "source": [
    "### Visualize with interpolation"
   ]
  },
  {
   "cell_type": "code",
   "execution_count": null,
   "id": "453833c6-d3a5-4f96-91d7-10aa02c2e6d7",
   "metadata": {
    "canvas": {
     "comments": [],
     "componentType": "CodeCell",
     "copiedOriginId": null,
     "headerColor": "none",
     "id": "b6d85811-9982-4794-9529-b611f67ad04a",
     "isComponent": false,
     "name": "",
     "parents": []
    },
    "local_metadata": {
     "canvas": {
      "comments": [],
      "componentType": "CodeCell",
      "copiedOriginId": null,
      "headerColor": 5,
      "id": "1c15b12d-e85a-4342-876e-80103630540d",
      "isComponent": true,
      "meta_id": "453833c6-d3a5-4f96-91d7-10aa02c2e6d7",
      "name": "Interpolation start-end point",
      "parents": [
       {
        "id": "73fb295b-17e9-4ca6-a42f-02720231688c",
        "name": "Train VAE"
       }
      ],
      "preDefined": null
     },
     "tags": []
    },
    "remote_metadata": {
     "canvas": {
      "comments": [],
      "componentType": "CodeCell",
      "copiedOriginId": null,
      "hasOpendPDC": false,
      "headerColor": 5,
      "id": "1c15b12d-e85a-4342-876e-80103630540d",
      "isComponent": true,
      "meta_id": "453833c6-d3a5-4f96-91d7-10aa02c2e6d7",
      "name": "Interpolation start-end point",
      "parents": [
       {
        "id": "73fb295b-17e9-4ca6-a42f-02720231688c",
        "name": "Train VAE"
       }
      ],
      "preDefined": null
     },
     "tags": []
    }
   },
   "outputs": [],
   "source": [
    "# Choose starting and ending point for the interpolation -> shows original and reconstructed\n",
    "x, _ = next(iter(train_loader))\n",
    "_, mu, _ = model(x.to(device))\n",
    "mu = mu.detach().requires_grad_(False)\n",
    "\n",
    "A, B = 0, -1\n",
    "sample = model.decoder(torch.stack((mu[A].data, mu[B].data), 0)).detach()\n",
    "display_images(None, torch.stack(((x[A].data.view(-1), x[B].data.view(-1), sample.data[0], sample.data[1])), 0))"
   ]
  },
  {
   "cell_type": "code",
   "execution_count": null,
   "id": "c5c377d1-936e-4242-87af-d1cbf4284f29",
   "metadata": {
    "canvas": {
     "comments": [],
     "componentType": "CodeCell",
     "copiedOriginId": null,
     "headerColor": "none",
     "id": "0f21d3c7-1066-4d26-be10-aa50245659ca",
     "isComponent": false,
     "name": "",
     "parents": []
    },
    "local_metadata": {
     "canvas": {
      "comments": [],
      "componentType": "CodeCell",
      "copiedOriginId": null,
      "headerColor": 5,
      "id": "c8c3d975-8f3a-4563-aec3-011fef22b19a",
      "isComponent": true,
      "meta_id": "c5c377d1-936e-4242-87af-d1cbf4284f29",
      "name": "Visualize interpolation",
      "parents": [
       {
        "id": "1c15b12d-e85a-4342-876e-80103630540d",
        "name": "Interpolation start-end point"
       }
      ],
      "preDefined": null
     },
     "tags": []
    },
    "remote_metadata": {
     "canvas": {
      "comments": [],
      "componentType": "CodeCell",
      "copiedOriginId": null,
      "hasOpendPDC": false,
      "headerColor": 5,
      "id": "c8c3d975-8f3a-4563-aec3-011fef22b19a",
      "isComponent": true,
      "meta_id": "c5c377d1-936e-4242-87af-d1cbf4284f29",
      "name": "Visualize interpolation",
      "parents": [
       {
        "id": "1c15b12d-e85a-4342-876e-80103630540d",
        "name": "Interpolation start-end point"
       }
      ],
      "preDefined": null
     },
     "tags": []
    }
   },
   "outputs": [],
   "source": [
    "# Perform an interpolation between input A and B, in N steps\n",
    "N = 16\n",
    "code = torch.Tensor(N, 20).to(device)\n",
    "sample = torch.Tensor(N, 28, 28).to(device)\n",
    "for i in range(N):\n",
    "    code[i] = i / (N - 1) * mu[B].data + (1 - i / (N - 1)) * mu[A].data\n",
    "sample = model.decoder(code)\n",
    "display_images(None, sample, N // 4, count=True)"
   ]
  }
 ],
 "metadata": {
  "canvas": {
   "colorPalette": [
    "inherit",
    "inherit",
    "inherit",
    "inherit",
    "inherit",
    "inherit",
    "inherit",
    "inherit",
    "inherit",
    "inherit"
   ],
   "parameters": [],
   "version": "1.0"
  },
  "kernelspec": {
   "display_name": "Python 3 (ipykernel)",
   "language": "python",
   "name": "python3"
  },
  "language_info": {
   "codemirror_mode": {
    "name": "ipython",
    "version": 3
   },
   "file_extension": ".py",
   "mimetype": "text/x-python",
   "name": "python",
   "nbconvert_exporter": "python",
   "pygments_lexer": "ipython3",
   "version": "3.9.5"
  },
  "nbdime-conflicts": {
   "local_diff": [
    {
     "key": "canvas",
     "op": "add",
     "value": {
      "parameters": [
       {
        "name": "batch_size",
        "type": "int",
        "value": "256"
       },
       {
        "name": "d",
        "type": "int",
        "value": "20"
       },
       {
        "name": "epochs",
        "type": "int",
        "value": "6"
       },
       {
        "name": "beta",
        "type": "float",
        "value": "1.0"
       },
       {
        "name": "learning_rate",
        "type": "float",
        "value": "1e-3"
       }
      ]
     }
    }
   ],
   "remote_diff": [
    {
     "key": "canvas",
     "op": "add",
     "value": {
      "parameters": [
       {
        "name": "batch_size",
        "type": "int",
        "value": "256"
       },
       {
        "name": "d",
        "type": "int",
        "value": "20"
       },
       {
        "name": "epochs",
        "type": "int",
        "value": "10"
       },
       {
        "name": "beta",
        "type": "float",
        "value": "1.0"
       },
       {
        "name": "learning_rate",
        "type": "float",
        "value": "1e-3"
       }
      ]
     }
    }
   ]
  }
 },
 "nbformat": 4,
 "nbformat_minor": 5
}
