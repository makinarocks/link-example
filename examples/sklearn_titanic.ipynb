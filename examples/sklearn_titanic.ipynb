{
 "cells": [
  {
   "cell_type": "code",
   "execution_count": null,
   "metadata": {
    "canvas": {
     "comments": [],
     "componentType": "CodeCell",
     "copiedOriginId": null,
     "headerColor": "none",
     "id": "2689ef67-1dc0-4a48-8d23-22d147ff059d",
     "isComponent": false,
     "name": "",
     "parents": []
    },
    "tags": []
   },
   "outputs": [],
   "source": [
    "# package install\n",
    "!pip install seaborn==0.11.2 scikit-learn==1.1.1 catboost==1.0.6"
   ]
  },
  {
   "cell_type": "markdown",
   "metadata": {
    "canvas": {
     "comments": [],
     "componentType": "CodeCell",
     "copiedOriginId": null,
     "headerColor": "inherit",
     "id": "a7403478-1d83-47ea-8ecb-76ade5fb74fa",
     "isComponent": false,
     "name": "",
     "parents": []
    }
   },
   "source": [
    "# Import Packages"
   ]
  },
  {
   "cell_type": "code",
   "execution_count": 11,
   "metadata": {
    "_cell_guid": "5767a33c-8f18-4034-e52d-bf7a8f7d8ab8",
    "_uuid": "847a9b3972a6be2d2f3346ff01fea976d92ecdb6",
    "canvas": {
     "comments": [],
     "componentType": "CodeCell",
     "copiedOriginId": null,
     "headerColor": "none",
     "id": "3369fa7d-7452-493e-a329-1857ac7fd3bf",
     "isComponent": true,
     "name": "Import Packages",
     "parents": []
    },
    "tags": []
   },
   "outputs": [],
   "source": [
    "import random as rnd\n",
    "import warnings\n",
    "\n",
    "import matplotlib.pyplot as plt\n",
    "import numpy as np\n",
    "\n",
    "# data analysis and wrangling\n",
    "import pandas as pd\n",
    "\n",
    "# visualization\n",
    "import seaborn as sns\n",
    "\n",
    "# load dataset\n",
    "from catboost.datasets import titanic\n",
    "from sklearn import metrics\n",
    "from sklearn.ensemble import RandomForestClassifier, VotingClassifier\n",
    "from sklearn.linear_model import LogisticRegression\n",
    "from sklearn.metrics import confusion_matrix\n",
    "\n",
    "# Model traning & selection\n",
    "from sklearn.model_selection import (\n",
    "    KFold,\n",
    "    cross_val_predict,\n",
    "    cross_val_score,\n",
    "    train_test_split,\n",
    ")\n",
    "\n",
    "# ML models\n",
    "from sklearn.naive_bayes import GaussianNB\n",
    "from sklearn.neighbors import KNeighborsClassifier\n",
    "\n",
    "warnings.filterwarnings(\"ignore\")"
   ]
  },
  {
   "cell_type": "markdown",
   "metadata": {
    "_cell_guid": "6b5dc743-15b1-aac6-405e-081def6ecca1",
    "_uuid": "2d307b99ee3d19da3c1cddf509ed179c21dec94a",
    "canvas": {
     "comments": [],
     "componentType": "CodeCell",
     "copiedOriginId": "42ccc340-cffb-4064-a94e-f23a089dfd2a",
     "headerColor": "none",
     "id": "07775265-eefe-40ea-9358-0d7079fa871f",
     "isComponent": false,
     "name": "",
     "parents": []
    }
   },
   "source": [
    "# 1. EDA"
   ]
  },
  {
   "cell_type": "markdown",
   "metadata": {
    "canvas": {
     "comments": [],
     "componentType": "CodeCell",
     "copiedOriginId": null,
     "headerColor": "inherit",
     "id": "3fa82c0b-72fb-4dd5-878e-02d735084493",
     "isComponent": false,
     "name": "",
     "parents": []
    }
   },
   "source": [
    "We start by acquiring datasets using catboost library.  \n",
    "We also combine these datasets into `dataset` to run certain operations on both datasets together."
   ]
  },
  {
   "cell_type": "code",
   "execution_count": 12,
   "metadata": {
    "canvas": {
     "comments": [],
     "componentType": "CodeCell",
     "copiedOriginId": null,
     "headerColor": "inherit",
     "id": "aff8727c-eb19-46d4-997a-7d77acc41f3f",
     "isComponent": true,
     "name": "Acquire Data",
     "parents": [
      {
       "id": "3369fa7d-7452-493e-a329-1857ac7fd3bf",
       "name": "Import Packages"
      }
     ]
    },
    "tags": []
   },
   "outputs": [],
   "source": [
    "train_df, test_df = titanic()\n",
    "dataset = {\n",
    "    \"train\": train_df,\n",
    "    \"test\": test_df,\n",
    "}\n",
    "# We need `PassengerId` feature to make submit file.\n",
    "passenger_id = test_df[\"PassengerId\"]"
   ]
  },
  {
   "cell_type": "markdown",
   "metadata": {
    "canvas": {
     "comments": [],
     "componentType": "CodeCell",
     "copiedOriginId": null,
     "headerColor": "inherit",
     "id": "a3708c4d-ffbd-4773-9295-fb2a732fbb43",
     "isComponent": false,
     "name": "",
     "parents": []
    },
    "tags": []
   },
   "source": [
    "## Describing data"
   ]
  },
  {
   "cell_type": "markdown",
   "metadata": {
    "_cell_guid": "cd19a6f6-347f-be19-607b-dca950590b37",
    "_uuid": "1d7acf42af29a63bc038f14eded24e8b8146f541",
    "canvas": {
     "comments": [],
     "componentType": "CodeCell",
     "copiedOriginId": "88ee758b-69b4-4275-be21-1489fc3b2868",
     "headerColor": "none",
     "id": "c69550eb-ff62-4dbf-83aa-93d26372fdc5",
     "isComponent": false,
     "name": "",
     "parents": []
    },
    "tags": []
   },
   "source": [
    "### Types of Features\n",
    "- **Categorical**: `Survived`, `Sex`, and `Embarked`.\n",
    "- **Ordinal**: `Pclass`.\n",
    "- **Continous**: `Age`, `Fare`.\n",
    "- **Discrete**: `SibSp`, `Parch`.\n",
    "- **Mixed data type**: `Ticket`, `Cabin`.\n",
    "\n",
    "### Features contraining missing values\n",
    "- Train set: `Cabin` > `Age` > `Embarked`\n",
    "- Test set: `Cabin` > `Age` >> `Fare`\n",
    "\n",
    "### Features to be dropped\n",
    "- `Ticket` : It contains high ratio of duplicates.\n",
    "- `Cabin` : It has many null values(77%, 38% for train and test set).\n",
    "- `PassengerId` : It's not contribute to survival.\n",
    "- `Name` : Title(like 'Mr' or 'Mrs' ...) may contribute to survival. "
   ]
  },
  {
   "cell_type": "code",
   "execution_count": 3,
   "metadata": {
    "canvas": {
     "comments": [],
     "componentType": "CodeCell",
     "copiedOriginId": null,
     "headerColor": "inherit",
     "id": "bd3a1422-5383-44e5-a39d-ddb6a9b36d7d",
     "isComponent": true,
     "name": "Describe Data",
     "parents": [
      {
       "id": "aff8727c-eb19-46d4-997a-7d77acc41f3f",
       "name": "Acquire Data"
      }
     ]
    },
    "tags": []
   },
   "outputs": [
    {
     "name": "stdout",
     "output_type": "stream",
     "text": [
      "Preview the data\n"
     ]
    },
    {
     "data": {
      "text/html": [
       "<div>\n",
       "<style scoped>\n",
       "    .dataframe tbody tr th:only-of-type {\n",
       "        vertical-align: middle;\n",
       "    }\n",
       "\n",
       "    .dataframe tbody tr th {\n",
       "        vertical-align: top;\n",
       "    }\n",
       "\n",
       "    .dataframe thead th {\n",
       "        text-align: right;\n",
       "    }\n",
       "</style>\n",
       "<table border=\"1\" class=\"dataframe\">\n",
       "  <thead>\n",
       "    <tr style=\"text-align: right;\">\n",
       "      <th></th>\n",
       "      <th>PassengerId</th>\n",
       "      <th>Survived</th>\n",
       "      <th>Pclass</th>\n",
       "      <th>Name</th>\n",
       "      <th>Sex</th>\n",
       "      <th>Age</th>\n",
       "      <th>SibSp</th>\n",
       "      <th>Parch</th>\n",
       "      <th>Ticket</th>\n",
       "      <th>Fare</th>\n",
       "      <th>Cabin</th>\n",
       "      <th>Embarked</th>\n",
       "    </tr>\n",
       "  </thead>\n",
       "  <tbody>\n",
       "    <tr>\n",
       "      <th>0</th>\n",
       "      <td>1</td>\n",
       "      <td>0</td>\n",
       "      <td>3</td>\n",
       "      <td>Braund, Mr. Owen Harris</td>\n",
       "      <td>male</td>\n",
       "      <td>22.0</td>\n",
       "      <td>1</td>\n",
       "      <td>0</td>\n",
       "      <td>A/5 21171</td>\n",
       "      <td>7.2500</td>\n",
       "      <td>NaN</td>\n",
       "      <td>S</td>\n",
       "    </tr>\n",
       "    <tr>\n",
       "      <th>1</th>\n",
       "      <td>2</td>\n",
       "      <td>1</td>\n",
       "      <td>1</td>\n",
       "      <td>Cumings, Mrs. John Bradley (Florence Briggs Th...</td>\n",
       "      <td>female</td>\n",
       "      <td>38.0</td>\n",
       "      <td>1</td>\n",
       "      <td>0</td>\n",
       "      <td>PC 17599</td>\n",
       "      <td>71.2833</td>\n",
       "      <td>C85</td>\n",
       "      <td>C</td>\n",
       "    </tr>\n",
       "    <tr>\n",
       "      <th>2</th>\n",
       "      <td>3</td>\n",
       "      <td>1</td>\n",
       "      <td>3</td>\n",
       "      <td>Heikkinen, Miss. Laina</td>\n",
       "      <td>female</td>\n",
       "      <td>26.0</td>\n",
       "      <td>0</td>\n",
       "      <td>0</td>\n",
       "      <td>STON/O2. 3101282</td>\n",
       "      <td>7.9250</td>\n",
       "      <td>NaN</td>\n",
       "      <td>S</td>\n",
       "    </tr>\n",
       "    <tr>\n",
       "      <th>3</th>\n",
       "      <td>4</td>\n",
       "      <td>1</td>\n",
       "      <td>1</td>\n",
       "      <td>Futrelle, Mrs. Jacques Heath (Lily May Peel)</td>\n",
       "      <td>female</td>\n",
       "      <td>35.0</td>\n",
       "      <td>1</td>\n",
       "      <td>0</td>\n",
       "      <td>113803</td>\n",
       "      <td>53.1000</td>\n",
       "      <td>C123</td>\n",
       "      <td>S</td>\n",
       "    </tr>\n",
       "    <tr>\n",
       "      <th>4</th>\n",
       "      <td>5</td>\n",
       "      <td>0</td>\n",
       "      <td>3</td>\n",
       "      <td>Allen, Mr. William Henry</td>\n",
       "      <td>male</td>\n",
       "      <td>35.0</td>\n",
       "      <td>0</td>\n",
       "      <td>0</td>\n",
       "      <td>373450</td>\n",
       "      <td>8.0500</td>\n",
       "      <td>NaN</td>\n",
       "      <td>S</td>\n",
       "    </tr>\n",
       "  </tbody>\n",
       "</table>\n",
       "</div>"
      ],
      "text/plain": [
       "   PassengerId  Survived  Pclass  \\\n",
       "0            1         0       3   \n",
       "1            2         1       1   \n",
       "2            3         1       3   \n",
       "3            4         1       1   \n",
       "4            5         0       3   \n",
       "\n",
       "                                                Name     Sex   Age  SibSp  \\\n",
       "0                            Braund, Mr. Owen Harris    male  22.0      1   \n",
       "1  Cumings, Mrs. John Bradley (Florence Briggs Th...  female  38.0      1   \n",
       "2                             Heikkinen, Miss. Laina  female  26.0      0   \n",
       "3       Futrelle, Mrs. Jacques Heath (Lily May Peel)  female  35.0      1   \n",
       "4                           Allen, Mr. William Henry    male  35.0      0   \n",
       "\n",
       "   Parch            Ticket     Fare Cabin Embarked  \n",
       "0      0         A/5 21171   7.2500   NaN        S  \n",
       "1      0          PC 17599  71.2833   C85        C  \n",
       "2      0  STON/O2. 3101282   7.9250   NaN        S  \n",
       "3      0            113803  53.1000  C123        S  \n",
       "4      0            373450   8.0500   NaN        S  "
      ]
     },
     "metadata": {},
     "output_type": "display_data"
    },
    {
     "name": "stdout",
     "output_type": "stream",
     "text": [
      "\n",
      "========================================\n",
      "Check blank, null or empty values\n",
      "\n",
      "\tTrain\n"
     ]
    },
    {
     "data": {
      "text/plain": [
       "PassengerId    0.000000\n",
       "Survived       0.000000\n",
       "Pclass         0.000000\n",
       "Name           0.000000\n",
       "Sex            0.000000\n",
       "Age            0.198653\n",
       "SibSp          0.000000\n",
       "Parch          0.000000\n",
       "Ticket         0.000000\n",
       "Fare           0.000000\n",
       "Cabin          0.771044\n",
       "Embarked       0.002245\n",
       "dtype: float64"
      ]
     },
     "metadata": {},
     "output_type": "display_data"
    },
    {
     "name": "stdout",
     "output_type": "stream",
     "text": [
      "________________________________________\n",
      "\tTest\n"
     ]
    },
    {
     "data": {
      "text/plain": [
       "PassengerId    0.000000\n",
       "Pclass         0.000000\n",
       "Name           0.000000\n",
       "Sex            0.000000\n",
       "Age            0.096521\n",
       "SibSp          0.000000\n",
       "Parch          0.000000\n",
       "Ticket         0.000000\n",
       "Fare           0.001122\n",
       "Cabin          0.367003\n",
       "Embarked       0.000000\n",
       "dtype: float64"
      ]
     },
     "metadata": {},
     "output_type": "display_data"
    },
    {
     "name": "stdout",
     "output_type": "stream",
     "text": [
      "\n",
      "========================================\n",
      "Check the distribution of numerical features\n"
     ]
    },
    {
     "data": {
      "text/html": [
       "<div>\n",
       "<style scoped>\n",
       "    .dataframe tbody tr th:only-of-type {\n",
       "        vertical-align: middle;\n",
       "    }\n",
       "\n",
       "    .dataframe tbody tr th {\n",
       "        vertical-align: top;\n",
       "    }\n",
       "\n",
       "    .dataframe thead th {\n",
       "        text-align: right;\n",
       "    }\n",
       "</style>\n",
       "<table border=\"1\" class=\"dataframe\">\n",
       "  <thead>\n",
       "    <tr style=\"text-align: right;\">\n",
       "      <th></th>\n",
       "      <th>PassengerId</th>\n",
       "      <th>Survived</th>\n",
       "      <th>Pclass</th>\n",
       "      <th>Age</th>\n",
       "      <th>SibSp</th>\n",
       "      <th>Parch</th>\n",
       "      <th>Fare</th>\n",
       "    </tr>\n",
       "  </thead>\n",
       "  <tbody>\n",
       "    <tr>\n",
       "      <th>count</th>\n",
       "      <td>891.000000</td>\n",
       "      <td>891.000000</td>\n",
       "      <td>891.000000</td>\n",
       "      <td>714.000000</td>\n",
       "      <td>891.000000</td>\n",
       "      <td>891.000000</td>\n",
       "      <td>891.000000</td>\n",
       "    </tr>\n",
       "    <tr>\n",
       "      <th>mean</th>\n",
       "      <td>446.000000</td>\n",
       "      <td>0.383838</td>\n",
       "      <td>2.308642</td>\n",
       "      <td>29.699118</td>\n",
       "      <td>0.523008</td>\n",
       "      <td>0.381594</td>\n",
       "      <td>32.204208</td>\n",
       "    </tr>\n",
       "    <tr>\n",
       "      <th>std</th>\n",
       "      <td>257.353842</td>\n",
       "      <td>0.486592</td>\n",
       "      <td>0.836071</td>\n",
       "      <td>14.526497</td>\n",
       "      <td>1.102743</td>\n",
       "      <td>0.806057</td>\n",
       "      <td>49.693429</td>\n",
       "    </tr>\n",
       "    <tr>\n",
       "      <th>min</th>\n",
       "      <td>1.000000</td>\n",
       "      <td>0.000000</td>\n",
       "      <td>1.000000</td>\n",
       "      <td>0.420000</td>\n",
       "      <td>0.000000</td>\n",
       "      <td>0.000000</td>\n",
       "      <td>0.000000</td>\n",
       "    </tr>\n",
       "    <tr>\n",
       "      <th>25%</th>\n",
       "      <td>223.500000</td>\n",
       "      <td>0.000000</td>\n",
       "      <td>2.000000</td>\n",
       "      <td>20.125000</td>\n",
       "      <td>0.000000</td>\n",
       "      <td>0.000000</td>\n",
       "      <td>7.910400</td>\n",
       "    </tr>\n",
       "    <tr>\n",
       "      <th>50%</th>\n",
       "      <td>446.000000</td>\n",
       "      <td>0.000000</td>\n",
       "      <td>3.000000</td>\n",
       "      <td>28.000000</td>\n",
       "      <td>0.000000</td>\n",
       "      <td>0.000000</td>\n",
       "      <td>14.454200</td>\n",
       "    </tr>\n",
       "    <tr>\n",
       "      <th>75%</th>\n",
       "      <td>668.500000</td>\n",
       "      <td>1.000000</td>\n",
       "      <td>3.000000</td>\n",
       "      <td>38.000000</td>\n",
       "      <td>1.000000</td>\n",
       "      <td>0.000000</td>\n",
       "      <td>31.000000</td>\n",
       "    </tr>\n",
       "    <tr>\n",
       "      <th>max</th>\n",
       "      <td>891.000000</td>\n",
       "      <td>1.000000</td>\n",
       "      <td>3.000000</td>\n",
       "      <td>80.000000</td>\n",
       "      <td>8.000000</td>\n",
       "      <td>6.000000</td>\n",
       "      <td>512.329200</td>\n",
       "    </tr>\n",
       "  </tbody>\n",
       "</table>\n",
       "</div>"
      ],
      "text/plain": [
       "       PassengerId    Survived      Pclass         Age       SibSp  \\\n",
       "count   891.000000  891.000000  891.000000  714.000000  891.000000   \n",
       "mean    446.000000    0.383838    2.308642   29.699118    0.523008   \n",
       "std     257.353842    0.486592    0.836071   14.526497    1.102743   \n",
       "min       1.000000    0.000000    1.000000    0.420000    0.000000   \n",
       "25%     223.500000    0.000000    2.000000   20.125000    0.000000   \n",
       "50%     446.000000    0.000000    3.000000   28.000000    0.000000   \n",
       "75%     668.500000    1.000000    3.000000   38.000000    1.000000   \n",
       "max     891.000000    1.000000    3.000000   80.000000    8.000000   \n",
       "\n",
       "            Parch        Fare  \n",
       "count  891.000000  891.000000  \n",
       "mean     0.381594   32.204208  \n",
       "std      0.806057   49.693429  \n",
       "min      0.000000    0.000000  \n",
       "25%      0.000000    7.910400  \n",
       "50%      0.000000   14.454200  \n",
       "75%      0.000000   31.000000  \n",
       "max      6.000000  512.329200  "
      ]
     },
     "metadata": {},
     "output_type": "display_data"
    },
    {
     "name": "stdout",
     "output_type": "stream",
     "text": [
      "\n",
      "========================================\n",
      "Check the distribution of categorical features\n"
     ]
    },
    {
     "data": {
      "text/html": [
       "<div>\n",
       "<style scoped>\n",
       "    .dataframe tbody tr th:only-of-type {\n",
       "        vertical-align: middle;\n",
       "    }\n",
       "\n",
       "    .dataframe tbody tr th {\n",
       "        vertical-align: top;\n",
       "    }\n",
       "\n",
       "    .dataframe thead th {\n",
       "        text-align: right;\n",
       "    }\n",
       "</style>\n",
       "<table border=\"1\" class=\"dataframe\">\n",
       "  <thead>\n",
       "    <tr style=\"text-align: right;\">\n",
       "      <th></th>\n",
       "      <th>Name</th>\n",
       "      <th>Sex</th>\n",
       "      <th>Ticket</th>\n",
       "      <th>Cabin</th>\n",
       "      <th>Embarked</th>\n",
       "    </tr>\n",
       "  </thead>\n",
       "  <tbody>\n",
       "    <tr>\n",
       "      <th>count</th>\n",
       "      <td>891</td>\n",
       "      <td>891</td>\n",
       "      <td>891</td>\n",
       "      <td>204</td>\n",
       "      <td>889</td>\n",
       "    </tr>\n",
       "    <tr>\n",
       "      <th>unique</th>\n",
       "      <td>891</td>\n",
       "      <td>2</td>\n",
       "      <td>681</td>\n",
       "      <td>147</td>\n",
       "      <td>3</td>\n",
       "    </tr>\n",
       "    <tr>\n",
       "      <th>top</th>\n",
       "      <td>Braund, Mr. Owen Harris</td>\n",
       "      <td>male</td>\n",
       "      <td>347082</td>\n",
       "      <td>B96 B98</td>\n",
       "      <td>S</td>\n",
       "    </tr>\n",
       "    <tr>\n",
       "      <th>freq</th>\n",
       "      <td>1</td>\n",
       "      <td>577</td>\n",
       "      <td>7</td>\n",
       "      <td>4</td>\n",
       "      <td>644</td>\n",
       "    </tr>\n",
       "  </tbody>\n",
       "</table>\n",
       "</div>"
      ],
      "text/plain": [
       "                           Name   Sex  Ticket    Cabin Embarked\n",
       "count                       891   891     891      204      889\n",
       "unique                      891     2     681      147        3\n",
       "top     Braund, Mr. Owen Harris  male  347082  B96 B98        S\n",
       "freq                          1   577       7        4      644"
      ]
     },
     "metadata": {},
     "output_type": "display_data"
    },
    {
     "name": "stdout",
     "output_type": "stream",
     "text": [
      "\n",
      "========================================\n",
      "Check the duplication rate of `Ticket` feature\n"
     ]
    },
    {
     "data": {
      "text/plain": [
       "0.2356902356902357"
      ]
     },
     "execution_count": 3,
     "metadata": {},
     "output_type": "execute_result"
    }
   ],
   "source": [
    "print(\"Preview the data\")\n",
    "display(train_df.head())\n",
    "\n",
    "print(\"\\n\" + \"=\" * 40)\n",
    "print(\"Check blank, null or empty values\\n\")\n",
    "print(\"\\tTrain\")\n",
    "display(train_df.isnull().sum() / len(train_df))\n",
    "print(\"_\" * 40)\n",
    "print(\"\\tTest\")\n",
    "display(test_df.isnull().sum() / len(train_df))\n",
    "\n",
    "print(\"\\n\" + \"=\" * 40)\n",
    "print(\"Check the distribution of numerical features\")\n",
    "display(train_df.describe())\n",
    "\n",
    "print(\"\\n\" + \"=\" * 40)\n",
    "print(\"Check the distribution of categorical features\")\n",
    "display(train_df.describe(include=[\"O\"]))\n",
    "\n",
    "print(\"\\n\" + \"=\" * 40)\n",
    "print(\"Check the duplication rate of `Ticket` feature\")\n",
    "train_df.Ticket.duplicated().sum() / len(train_df)"
   ]
  },
  {
   "cell_type": "markdown",
   "metadata": {
    "_cell_guid": "6db63a30-1d86-266e-2799-dded03c45816",
    "_uuid": "946ee6ca01a3e4eecfa373ca00f88042b683e2ad",
    "canvas": {
     "comments": [],
     "componentType": "CodeCell",
     "copiedOriginId": "a1c5bc49-0e5d-4d8e-9905-e1cde23b58cf",
     "headerColor": "none",
     "id": "63a48514-04ab-41d5-9b6f-263f875b4a0d",
     "isComponent": false,
     "name": "",
     "parents": []
    }
   },
   "source": [
    "## Analyzing the features"
   ]
  },
  {
   "cell_type": "markdown",
   "metadata": {
    "canvas": {
     "comments": [],
     "componentType": "CodeCell",
     "copiedOriginId": null,
     "headerColor": "inherit",
     "id": "60f9e2f3-1072-4f97-b551-f6bd11b2ead7",
     "isComponent": false,
     "name": "",
     "parents": []
    }
   },
   "source": [
    "### **Categorical**, **ordinal** or **discrete feature** and **target**\n",
    "- **`Pclass`** : Passengers with `Pclass` 1 has a higher rate of surviving than other Pclasses.\n",
    "- **`Sex`** : `Female` passengers are more likely to survive than male passengers\n",
    "- **`SibSp` and `Parch`** : Survival rate differs depending on whether you are alone or when you have one other family member. "
   ]
  },
  {
   "cell_type": "code",
   "execution_count": 4,
   "metadata": {
    "canvas": {
     "comments": [],
     "componentType": "CodeCell",
     "copiedOriginId": null,
     "headerColor": "inherit",
     "id": "7838c88c-5e5b-45e2-a1d4-3a444d920446",
     "isComponent": true,
     "name": "Analze by pivoting features",
     "parents": [
      {
       "id": "aff8727c-eb19-46d4-997a-7d77acc41f3f",
       "name": "Acquire Data"
      }
     ]
    },
    "tags": []
   },
   "outputs": [
    {
     "data": {
      "image/png": "[encoded data removed]",
      "text/plain": [
       "<Figure size 1152x720 with 8 Axes>"
      ]
     },
     "metadata": {
      "needs_background": "light"
     },
     "output_type": "display_data"
    }
   ],
   "source": [
    "pivot_features = [\"Pclass\", \"Sex\", \"SibSp\", \"Parch\"]\n",
    "f, ax = plt.subplots(2, 4, figsize=(16, 10))\n",
    "\n",
    "for i, pivot_feature in enumerate(pivot_features):\n",
    "    train_df[pivot_feature].value_counts().sort_index().plot.bar(x=pivot_feature, y=\"Survived\", ax=ax[0, i])\n",
    "    sns.countplot(pivot_feature, hue=\"Survived\", data=train_df, ax=ax[1, i])\n",
    "    ax[0, i].set_title(pivot_feature)\n",
    "plt.show()"
   ]
  },
  {
   "cell_type": "markdown",
   "metadata": {
    "_cell_guid": "0d43550e-9eff-3859-3568-8856570eff76",
    "_uuid": "5c6204d01f5a9040cf0bb7c678686ae48daa201f",
    "canvas": {
     "comments": [],
     "componentType": "CodeCell",
     "copiedOriginId": "92b17c0b-def7-4348-b908-c1877b085ca6",
     "headerColor": "none",
     "id": "b9d9eacc-6c55-4999-a427-68f0dd6d36d3",
     "isComponent": false,
     "name": "",
     "parents": []
    }
   },
   "source": [
    "### Correlation between features"
   ]
  },
  {
   "cell_type": "markdown",
   "metadata": {
    "canvas": {
     "comments": [],
     "componentType": "CodeCell",
     "copiedOriginId": "7f5a5c28-e299-4137-91ee-a193370d342c",
     "headerColor": "inherit",
     "id": "fcef4d8d-ddc9-4746-8ec1-5b38d351558d",
     "isComponent": false,
     "name": "",
     "parents": []
    },
    "tags": []
   },
   "source": [
    "#### Fig 1 :  Histogram of `Age` by `Survived`\n",
    "- Infants (Age <=4) had high survival rate.\n",
    "- Large number of 15-25 year olds did not survive.\n",
    "- Most passengers are in 15-35 age range.\n",
    "\n",
    "\n",
    "#### Fig 2 : Distribution of `Age` by `Pclass` x `Survived`\n",
    "- The number of children increases with `Pclass`\n",
    "- The survival rate for passengers below `Age` 10 looks to be good irrespective of the `Pclass`.\n",
    "\n",
    "\n",
    "#### Fig 3 : `Survived` rate by `Embarked` x `Pclass` x `Sex`\n",
    "- The survival chances are almost 1 for `Pclass` 1 & 2 irrespecitive of the `Pclass`.\n",
    "- Port S looks to be very unlucky for `Pclass` 3 Passenegers as the survival rate for both men and women is very low.\n",
    "- Port Q looks to be unlukiest for Men, as almost all were from Pclass 3.\n",
    "\n",
    "\n",
    "#### Fig 4 : `Fare` by `Embarked` x `Survived`\n",
    "- The survival rate is high for passengers paying higher fare had better survival.\n",
    "- Port of embarkation correlates with survival rates.\n",
    "\n",
    "#### Decisions\n",
    "- We should use `Age`, `Pclass`, `Embarked`, `Fare` feature to model training.\n",
    "- Consider banding `Age`, `Fare` feature.\n",
    "- Need to complete the `Age`, `Embarked`, `Fare` feature for missing values"
   ]
  },
  {
   "cell_type": "code",
   "execution_count": 6,
   "metadata": {
    "canvas": {
     "comments": [],
     "componentType": "CodeCell",
     "copiedOriginId": null,
     "headerColor": "inherit",
     "id": "33159720-a7a4-403f-83f0-3e65e90c3b0c",
     "isComponent": true,
     "name": "Analyze by visualizing data",
     "parents": [
      {
       "id": "aff8727c-eb19-46d4-997a-7d77acc41f3f",
       "name": "Acquire Data"
      }
     ]
    },
    "tags": []
   },
   "outputs": [
    {
     "data": {
      "image/png": "[encoded data removed]",
      "text/plain": [
       "<Figure size 1296x576 with 2 Axes>"
      ]
     },
     "metadata": {
      "needs_background": "light"
     },
     "output_type": "display_data"
    },
    {
     "data": {
      "image/png": "[encoded data removed]",
      "text/plain": [
       "<Figure size 1150.5x360 with 3 Axes>"
      ]
     },
     "metadata": {
      "needs_background": "light"
     },
     "output_type": "display_data"
    },
    {
     "data": {
      "image/png": "[encoded data removed]",
      "text/plain": [
       "<Figure size 1390.4x288 with 3 Axes>"
      ]
     },
     "metadata": {
      "needs_background": "light"
     },
     "output_type": "display_data"
    }
   ],
   "source": [
    "fig12, ax = plt.subplots(1, 2, figsize=(18, 8))\n",
    "sns.histplot(data=train_df, y=\"Age\", hue=\"Survived\", ax=ax[0])\n",
    "ax[0].set_title(\"Fig 1 : Histogram of Age by Survived\", size=20)\n",
    "sns.violinplot(data=train_df, x=\"Pclass\", y=\"Age\", hue=\"Survived\", split=True, ax=ax[1])\n",
    "ax[1].set_title(\"Fig 2 : Distribution of Age by Pclass x Survived\", size=20)\n",
    "ax[1].set_yticks(range(0, 110, 10))\n",
    "plt.show()\n",
    "\n",
    "fig3 = sns.factorplot(\"Pclass\", \"Survived\", data=train_df, hue=\"Sex\", col=\"Embarked\", palette=\"deep\")\n",
    "fig3.fig.subplots_adjust(top=0.8)\n",
    "fig3.fig.suptitle(\"Fig 3 : Survived rate by Embarked x Pclass x Sex\", size=20)\n",
    "plt.show()\n",
    "\n",
    "fig4 = sns.FacetGrid(train_df, col=\"Embarked\", size=4, aspect=1.6)\n",
    "fig4.map(sns.barplot, \"Survived\", \"Fare\", alpha=0.5, ci=None)\n",
    "fig4.add_legend()\n",
    "fig4.fig.subplots_adjust(top=0.8)\n",
    "fig4.fig.suptitle(\"Fig 4 : Fare by Embarked x Survived\", size=20)\n",
    "\n",
    "plt.show()"
   ]
  },
  {
   "cell_type": "markdown",
   "metadata": {
    "_cell_guid": "a21f66ac-c30d-f429-cc64-1da5460d16a9",
    "_uuid": "c8fd535ac1bc90127369027c2101dbc939db118e",
    "canvas": {
     "comments": [],
     "componentType": "CodeCell",
     "copiedOriginId": null,
     "headerColor": "inherit",
     "id": "64638ae6-961b-4d84-a020-b02bae5f3ec4",
     "isComponent": false,
     "name": "",
     "parents": []
    },
    "tags": []
   },
   "source": [
    "---"
   ]
  },
  {
   "cell_type": "markdown",
   "metadata": {
    "_cell_guid": "cfac6291-33cc-506e-e548-6cad9408623d",
    "_uuid": "73a9111a8dc2a6b8b6c78ef628b6cae2a63fc33f",
    "canvas": {
     "comments": [],
     "componentType": "CodeCell",
     "copiedOriginId": null,
     "headerColor": "none",
     "id": "9b66de62-8891-420f-99dd-8ae565a87f41",
     "isComponent": false,
     "name": "",
     "parents": []
    }
   },
   "source": [
    "# 2. Wrangling data"
   ]
  },
  {
   "cell_type": "markdown",
   "metadata": {
    "canvas": {
     "comments": [],
     "componentType": "CodeCell",
     "copiedOriginId": null,
     "headerColor": "inherit",
     "id": "77fadd88-a37c-4b3a-9cdb-17564a291b5a",
     "isComponent": false,
     "name": "",
     "parents": []
    }
   },
   "source": [
    "## Dropping features\n",
    "- `Ticket`, `Cabin`, `PassengerId`"
   ]
  },
  {
   "cell_type": "code",
   "execution_count": 1,
   "metadata": {
    "canvas": {
     "comments": [],
     "componentType": "CodeCell",
     "copiedOriginId": null,
     "headerColor": "inherit",
     "id": "2e24e473-0ce0-4489-bcce-ad8f7f7f8aba",
     "isComponent": true,
     "name": "Drop Features",
     "parents": [
      {
       "id": "aff8727c-eb19-46d4-997a-7d77acc41f3f",
       "name": "Acquire Data"
      }
     ]
    },
    "tags": []
   },
   "outputs": [],
   "source": [
    "for ds_name, ds in dataset.items():\n",
    "    ds.drop([\"Ticket\", \"Cabin\", \"PassengerId\"], axis=1, inplace=True)\n",
    "    dataset[ds_name] = ds"
   ]
  },
  {
   "cell_type": "markdown",
   "metadata": {
    "canvas": {
     "comments": [],
     "componentType": "CodeCell",
     "copiedOriginId": "77fadd88-a37c-4b3a-9cdb-17564a291b5a",
     "headerColor": "inherit",
     "id": "97cc9f07-fff3-42e0-8860-dfc0b751837c",
     "isComponent": false,
     "name": "",
     "parents": []
    }
   },
   "source": [
    "## Creating feature : `Title`"
   ]
  },
  {
   "cell_type": "markdown",
   "metadata": {
    "canvas": {
     "comments": [],
     "componentType": "CodeCell",
     "copiedOriginId": null,
     "headerColor": "inherit",
     "id": "f096cba8-73f3-4e3c-9eb5-3561c40ce001",
     "isComponent": false,
     "name": "",
     "parents": []
    }
   },
   "source": [
    "- Extract `Title` and test correlation between `Title` and `Survived`.\n",
    "- By RegEx pattern, we can find the first word which ends with a dot(`.`) within `Name` feature.\n",
    "\n",
    "### the number of samples by Title x Sex\n",
    "- Most titles are gender-specific. For example: None of the samples with `Master` or `Mr` titles were `female`.\n",
    "\n",
    "### the survival rate by Title\n",
    "- Certain titles mostly survived (`Miss`, `Mrs`) or did\n",
    "\n",
    "### the mean value of Age by Title\n",
    "- Most titles band Age groups accurately. For example: Master title has Age mean of 5 years.\n",
    "\n",
    "### Decision\n",
    "- We decide to retain the new `Title` feature for model training."
   ]
  },
  {
   "cell_type": "code",
   "execution_count": 3,
   "metadata": {
    "canvas": {
     "comments": [],
     "componentType": "CodeCell",
     "copiedOriginId": null,
     "headerColor": "inherit",
     "id": "29103ea8-fc78-4a97-aa9f-284e62eb1a63",
     "isComponent": true,
     "name": "Create Feature - Title",
     "parents": [
      {
       "id": "2e24e473-0ce0-4489-bcce-ad8f7f7f8aba",
       "name": "Drop Features"
      }
     ]
    },
    "tags": []
   },
   "outputs": [
    {
     "data": {
      "image/png": "[encoded data removed]",
      "text/plain": [
       "<Figure size 432x288 with 1 Axes>"
      ]
     },
     "metadata": {
      "needs_background": "light"
     },
     "output_type": "display_data"
    },
    {
     "data": {
      "image/png": "[encoded data removed]",
      "text/plain": [
       "<Figure size 432x288 with 1 Axes>"
      ]
     },
     "metadata": {
      "needs_background": "light"
     },
     "output_type": "display_data"
    },
    {
     "data": {
      "image/png": "[encoded data removed]",
      "text/plain": [
       "<Figure size 432x288 with 1 Axes>"
      ]
     },
     "metadata": {
      "needs_background": "light"
     },
     "output_type": "display_data"
    },
    {
     "data": {
      "text/html": [
       "<div>\n",
       "<style scoped>\n",
       "    .dataframe tbody tr th:only-of-type {\n",
       "        vertical-align: middle;\n",
       "    }\n",
       "\n",
       "    .dataframe tbody tr th {\n",
       "        vertical-align: top;\n",
       "    }\n",
       "\n",
       "    .dataframe thead th {\n",
       "        text-align: right;\n",
       "    }\n",
       "</style>\n",
       "<table border=\"1\" class=\"dataframe\">\n",
       "  <thead>\n",
       "    <tr style=\"text-align: right;\">\n",
       "      <th></th>\n",
       "      <th>Survived</th>\n",
       "      <th>Pclass</th>\n",
       "      <th>Sex</th>\n",
       "      <th>Age</th>\n",
       "      <th>SibSp</th>\n",
       "      <th>Parch</th>\n",
       "      <th>Fare</th>\n",
       "      <th>Embarked</th>\n",
       "      <th>Title</th>\n",
       "    </tr>\n",
       "  </thead>\n",
       "  <tbody>\n",
       "    <tr>\n",
       "      <th>0</th>\n",
       "      <td>0</td>\n",
       "      <td>3</td>\n",
       "      <td>male</td>\n",
       "      <td>22.0</td>\n",
       "      <td>1</td>\n",
       "      <td>0</td>\n",
       "      <td>7.2500</td>\n",
       "      <td>S</td>\n",
       "      <td>Mr</td>\n",
       "    </tr>\n",
       "    <tr>\n",
       "      <th>1</th>\n",
       "      <td>1</td>\n",
       "      <td>1</td>\n",
       "      <td>female</td>\n",
       "      <td>38.0</td>\n",
       "      <td>1</td>\n",
       "      <td>0</td>\n",
       "      <td>71.2833</td>\n",
       "      <td>C</td>\n",
       "      <td>Mrs</td>\n",
       "    </tr>\n",
       "    <tr>\n",
       "      <th>2</th>\n",
       "      <td>1</td>\n",
       "      <td>3</td>\n",
       "      <td>female</td>\n",
       "      <td>26.0</td>\n",
       "      <td>0</td>\n",
       "      <td>0</td>\n",
       "      <td>7.9250</td>\n",
       "      <td>S</td>\n",
       "      <td>Miss</td>\n",
       "    </tr>\n",
       "    <tr>\n",
       "      <th>3</th>\n",
       "      <td>1</td>\n",
       "      <td>1</td>\n",
       "      <td>female</td>\n",
       "      <td>35.0</td>\n",
       "      <td>1</td>\n",
       "      <td>0</td>\n",
       "      <td>53.1000</td>\n",
       "      <td>S</td>\n",
       "      <td>Mrs</td>\n",
       "    </tr>\n",
       "    <tr>\n",
       "      <th>4</th>\n",
       "      <td>0</td>\n",
       "      <td>3</td>\n",
       "      <td>male</td>\n",
       "      <td>35.0</td>\n",
       "      <td>0</td>\n",
       "      <td>0</td>\n",
       "      <td>8.0500</td>\n",
       "      <td>S</td>\n",
       "      <td>Mr</td>\n",
       "    </tr>\n",
       "  </tbody>\n",
       "</table>\n",
       "</div>"
      ],
      "text/plain": [
       "   Survived  Pclass     Sex   Age  SibSp  Parch     Fare Embarked Title\n",
       "0         0       3    male  22.0      1      0   7.2500        S    Mr\n",
       "1         1       1  female  38.0      1      0  71.2833        C   Mrs\n",
       "2         1       3  female  26.0      0      0   7.9250        S  Miss\n",
       "3         1       1  female  35.0      1      0  53.1000        S   Mrs\n",
       "4         0       3    male  35.0      0      0   8.0500        S    Mr"
      ]
     },
     "metadata": {},
     "output_type": "display_data"
    }
   ],
   "source": [
    "for ds_name, ds in dataset.items():\n",
    "    ds[\"Title\"] = ds.Name.str.extract(\n",
    "        \" ([A-Za-z]+)\\.\",\n",
    "        expand=False,\n",
    "    )\n",
    "    ds[\"Title\"] = ds[\"Title\"].replace(\n",
    "        [\"Lady\", \"Countess\", \"Capt\", \"Col\", \"Don\", \"Dr\", \"Major\", \"Rev\", \"Sir\", \"Jonkheer\", \"Dona\"],\n",
    "        \"Rare\",\n",
    "    )\n",
    "    ds[\"Title\"] = ds[\"Title\"].replace(\"Mlle\", \"Miss\")\n",
    "    ds[\"Title\"] = ds[\"Title\"].replace(\"Ms\", \"Miss\")\n",
    "    ds[\"Title\"] = ds[\"Title\"].replace(\"Mme\", \"Mrs\")\n",
    "    ds[\"Title\"] = ds[\"Title\"].fillna(0)\n",
    "    ds = ds.drop([\"Name\"], axis=1)\n",
    "    dataset[ds_name] = ds\n",
    "\n",
    "pd.crosstab(dataset[\"train\"][\"Title\"], dataset[\"train\"][\"Sex\"]).plot.bar()\n",
    "plt.title(\"the number of samples by Title x Sex\", size=15)\n",
    "plt.show()\n",
    "dataset[\"train\"][[\"Title\", \"Survived\"]].groupby([\"Title\"], as_index=False).mean().plot.bar(x=\"Title\")\n",
    "plt.title(\"the survival rate by Title\", size=15)\n",
    "plt.show()\n",
    "dataset[\"train\"][[\"Title\", \"Age\"]].groupby([\"Title\"], as_index=False).mean().plot.bar(x=\"Title\")\n",
    "plt.title(\"the mean value of Age by Title\", size=15)\n",
    "plt.show()\n",
    "display(dataset[\"train\"].head())"
   ]
  },
  {
   "cell_type": "markdown",
   "metadata": {
    "canvas": {
     "comments": [],
     "componentType": "CodeCell",
     "copiedOriginId": "77fadd88-a37c-4b3a-9cdb-17564a291b5a",
     "headerColor": "inherit",
     "id": "057a44f9-1716-4c66-a4f0-3dcf9ae058b6",
     "isComponent": false,
     "name": "",
     "parents": []
    },
    "tags": []
   },
   "source": [
    "## Completing features\n",
    "- `Age`, `Embarked`, `Fare`"
   ]
  },
  {
   "cell_type": "code",
   "execution_count": null,
   "metadata": {
    "canvas": {
     "comments": [],
     "componentType": "CodeCell",
     "copiedOriginId": null,
     "headerColor": "inherit",
     "id": "d662fa8c-9068-42fd-9053-ff4decf538f1",
     "isComponent": true,
     "name": "Complete features",
     "parents": [
      {
       "id": "29103ea8-fc78-4a97-aa9f-284e62eb1a63",
       "name": "Create Feature - Title"
      }
     ]
    },
    "tags": []
   },
   "outputs": [
    {
     "data": {
      "image/png": "[encoded data removed]",
      "text/plain": [
       "<Figure size 514.88x475.2 with 6 Axes>"
      ]
     },
     "metadata": {
      "needs_background": "light"
     },
     "output_type": "display_data"
    }
   ],
   "source": [
    "# Cross tab Pclass x Sex(X ~ P(Age | Sex, Pclass))\n",
    "grid = sns.FacetGrid(dataset[\"train\"], row=\"Pclass\", col=\"Sex\", size=2.2, aspect=1.6)\n",
    "grid.map(plt.hist, \"Age\", alpha=0.5, bins=20)\n",
    "grid.add_legend()\n",
    "grid.fig.subplots_adjust(top=0.9)\n",
    "grid.fig.suptitle(\"Histogram of P(Age | Pclass, Sex)\", size=15)\n",
    "plt.show()\n",
    "\n",
    "freq_port = dataset[\"train\"].Embarked.dropna().mode()[0]\n",
    "categ_sex = dataset[\"train\"].Sex.unique()\n",
    "\n",
    "for ds_name, ds in dataset.items():\n",
    "    # Complete Age feature with the median of X ~ P(Age | Sex, Pclass)\n",
    "    for i in range(2):\n",
    "        for j in range(3):\n",
    "            guess_df = ds[(ds[\"Sex\"] == categ_sex[i]) & (ds[\"Pclass\"] == j + 1)][\"Age\"].dropna()\n",
    "\n",
    "            ds.loc[(ds.Age.isnull()) & (ds.Sex == categ_sex[i]) & (ds.Pclass == j + 1), \"Age\"] = guess_df.median()\n",
    "\n",
    "    ds[\"Embarked\"].fillna(freq_port, inplace=True)\n",
    "    ds[\"Fare\"].fillna(ds[\"Fare\"].dropna().median(), inplace=True)\n",
    "    dataset[ds_name] = ds"
   ]
  },
  {
   "cell_type": "markdown",
   "metadata": {
    "canvas": {
     "comments": [],
     "componentType": "CodeCell",
     "copiedOriginId": "77fadd88-a37c-4b3a-9cdb-17564a291b5a",
     "headerColor": "inherit",
     "id": "89e422f3-daa2-472d-b298-28cd0880cd33",
     "isComponent": false,
     "name": "",
     "parents": []
    }
   },
   "source": [
    "## Converting features\n",
    "- `Age`, `Fare`\n",
    "- Convert Numeric feature to Ordinal."
   ]
  },
  {
   "cell_type": "code",
   "execution_count": 9,
   "metadata": {
    "canvas": {
     "comments": [],
     "componentType": "CodeCell",
     "copiedOriginId": null,
     "headerColor": "inherit",
     "id": "5d772a3c-80be-4c78-aec2-d417fd8d6efe",
     "isComponent": true,
     "name": "Convert Feature - num to ord",
     "parents": [
      {
       "id": "d662fa8c-9068-42fd-9053-ff4decf538f1",
       "name": "Complete features"
      }
     ]
    },
    "tags": []
   },
   "outputs": [
    {
     "data": {
      "text/html": [
       "<div>\n",
       "<style scoped>\n",
       "    .dataframe tbody tr th:only-of-type {\n",
       "        vertical-align: middle;\n",
       "    }\n",
       "\n",
       "    .dataframe tbody tr th {\n",
       "        vertical-align: top;\n",
       "    }\n",
       "\n",
       "    .dataframe thead th {\n",
       "        text-align: right;\n",
       "    }\n",
       "</style>\n",
       "<table border=\"1\" class=\"dataframe\">\n",
       "  <thead>\n",
       "    <tr style=\"text-align: right;\">\n",
       "      <th></th>\n",
       "      <th>Survived</th>\n",
       "      <th>Pclass</th>\n",
       "      <th>Name</th>\n",
       "      <th>Sex</th>\n",
       "      <th>Age</th>\n",
       "      <th>SibSp</th>\n",
       "      <th>Parch</th>\n",
       "      <th>Fare</th>\n",
       "      <th>Embarked</th>\n",
       "      <th>Title</th>\n",
       "    </tr>\n",
       "  </thead>\n",
       "  <tbody>\n",
       "    <tr>\n",
       "      <th>0</th>\n",
       "      <td>0</td>\n",
       "      <td>3</td>\n",
       "      <td>Braund, Mr. Owen Harris</td>\n",
       "      <td>0</td>\n",
       "      <td>1</td>\n",
       "      <td>1</td>\n",
       "      <td>0</td>\n",
       "      <td>0</td>\n",
       "      <td>0</td>\n",
       "      <td>1</td>\n",
       "    </tr>\n",
       "    <tr>\n",
       "      <th>1</th>\n",
       "      <td>1</td>\n",
       "      <td>1</td>\n",
       "      <td>Cumings, Mrs. John Bradley (Florence Briggs Th...</td>\n",
       "      <td>1</td>\n",
       "      <td>2</td>\n",
       "      <td>1</td>\n",
       "      <td>0</td>\n",
       "      <td>3</td>\n",
       "      <td>1</td>\n",
       "      <td>3</td>\n",
       "    </tr>\n",
       "    <tr>\n",
       "      <th>2</th>\n",
       "      <td>1</td>\n",
       "      <td>3</td>\n",
       "      <td>Heikkinen, Miss. Laina</td>\n",
       "      <td>1</td>\n",
       "      <td>1</td>\n",
       "      <td>0</td>\n",
       "      <td>0</td>\n",
       "      <td>1</td>\n",
       "      <td>0</td>\n",
       "      <td>2</td>\n",
       "    </tr>\n",
       "    <tr>\n",
       "      <th>3</th>\n",
       "      <td>1</td>\n",
       "      <td>1</td>\n",
       "      <td>Futrelle, Mrs. Jacques Heath (Lily May Peel)</td>\n",
       "      <td>1</td>\n",
       "      <td>2</td>\n",
       "      <td>1</td>\n",
       "      <td>0</td>\n",
       "      <td>3</td>\n",
       "      <td>0</td>\n",
       "      <td>3</td>\n",
       "    </tr>\n",
       "    <tr>\n",
       "      <th>4</th>\n",
       "      <td>0</td>\n",
       "      <td>3</td>\n",
       "      <td>Allen, Mr. William Henry</td>\n",
       "      <td>0</td>\n",
       "      <td>2</td>\n",
       "      <td>0</td>\n",
       "      <td>0</td>\n",
       "      <td>1</td>\n",
       "      <td>0</td>\n",
       "      <td>1</td>\n",
       "    </tr>\n",
       "  </tbody>\n",
       "</table>\n",
       "</div>"
      ],
      "text/plain": [
       "   Survived  Pclass                                               Name  Sex  \\\n",
       "0         0       3                            Braund, Mr. Owen Harris    0   \n",
       "1         1       1  Cumings, Mrs. John Bradley (Florence Briggs Th...    1   \n",
       "2         1       3                             Heikkinen, Miss. Laina    1   \n",
       "3         1       1       Futrelle, Mrs. Jacques Heath (Lily May Peel)    1   \n",
       "4         0       3                           Allen, Mr. William Henry    0   \n",
       "\n",
       "   Age  SibSp  Parch  Fare  Embarked  Title  \n",
       "0    1      1      0     0         0      1  \n",
       "1    2      1      0     3         1      3  \n",
       "2    1      0      0     1         0      2  \n",
       "3    2      1      0     3         0      3  \n",
       "4    2      0      0     1         0      1  "
      ]
     },
     "metadata": {},
     "output_type": "display_data"
    },
    {
     "data": {
      "image/png": "[encoded data removed]",
      "text/plain": [
       "<Figure size 432x288 with 1 Axes>"
      ]
     },
     "metadata": {
      "needs_background": "light"
     },
     "output_type": "display_data"
    },
    {
     "data": {
      "image/png": "[encoded data removed]",
      "text/plain": [
       "<Figure size 432x288 with 1 Axes>"
      ]
     },
     "metadata": {
      "needs_background": "light"
     },
     "output_type": "display_data"
    }
   ],
   "source": [
    "# Banding `Age`, `Fare` feature\n",
    "dataset[\"train\"][\"AgeBand\"] = pd.cut(dataset[\"train\"][\"Age\"], 5)\n",
    "dataset[\"train\"][[\"AgeBand\", \"Survived\"]].groupby([\"AgeBand\"], as_index=False,).mean().sort_values(\n",
    "    by=\"AgeBand\",\n",
    "    ascending=True,\n",
    ").plot.bar(x=\"AgeBand\")\n",
    "dataset[\"train\"] = dataset[\"train\"].drop([\"AgeBand\"], axis=1)\n",
    "\n",
    "dataset[\"train\"][\"FareBand\"] = pd.qcut(dataset[\"train\"][\"Fare\"], 4)\n",
    "dataset[\"train\"][[\"FareBand\", \"Survived\"]].groupby([\"FareBand\"], as_index=False,).mean().sort_values(\n",
    "    by=\"FareBand\",\n",
    "    ascending=True,\n",
    ").plot.bar(x=\"FareBand\")\n",
    "dataset[\"train\"] = dataset[\"train\"].drop([\"FareBand\"], axis=1)\n",
    "\n",
    "title_mapping = {\"Mr\": 1, \"Miss\": 2, \"Mrs\": 3, \"Master\": 4, \"Rare\": 5}\n",
    "sex_mapping = {\"female\": 1, \"male\": 0}\n",
    "embarked_mapping = {\"S\": 0, \"C\": 1, \"Q\": 2}\n",
    "\n",
    "for ds_name, ds in dataset.items():\n",
    "    # Convert Numeric feature to Ordinal : `Age`, `Fare`\n",
    "    ds.loc[ds[\"Age\"] <= 16, \"Age\"] = 0\n",
    "    ds.loc[(ds[\"Age\"] > 16) & (ds[\"Age\"] <= 32), \"Age\"] = 1\n",
    "    ds.loc[(ds[\"Age\"] > 32) & (ds[\"Age\"] <= 48), \"Age\"] = 2\n",
    "    ds.loc[(ds[\"Age\"] > 48) & (ds[\"Age\"] <= 64), \"Age\"] = 3\n",
    "    ds.loc[ds[\"Age\"] > 64, \"Age\"]\n",
    "    ds[\"Age\"] = ds[\"Age\"].astype(int)\n",
    "\n",
    "    ds.loc[ds[\"Fare\"] <= 7.91, \"Fare\"] = 0\n",
    "    ds.loc[(ds[\"Fare\"] > 7.91) & (ds[\"Fare\"] <= 14.454), \"Fare\"] = 1\n",
    "    ds.loc[(ds[\"Fare\"] > 14.454) & (ds[\"Fare\"] <= 31), \"Fare\"] = 2\n",
    "    ds.loc[ds[\"Fare\"] > 31, \"Fare\"] = 3\n",
    "    ds[\"Fare\"] = ds[\"Fare\"].astype(int)\n",
    "\n",
    "    # Convert Categorical feature to numeric : `Title`, `Sex`\n",
    "    ds[\"Title\"] = ds[\"Title\"].map(title_mapping)\n",
    "    ds[\"Title\"] = ds[\"Title\"].fillna(0)\n",
    "    ds[\"Sex\"] = ds[\"Sex\"].map(sex_mapping).astype(int)\n",
    "    ds[\"Embarked\"] = ds[\"Embarked\"].map(embarked_mapping).astype(int)\n",
    "\n",
    "    dataset[ds_name] = ds\n",
    "\n",
    "display(dataset[\"train\"].head())"
   ]
  },
  {
   "cell_type": "markdown",
   "metadata": {
    "canvas": {
     "comments": [],
     "componentType": "CodeCell",
     "copiedOriginId": null,
     "headerColor": "inherit",
     "id": "edcfda1e-e0b1-4ef2-92e1-292d3ca3eb93",
     "isComponent": false,
     "name": "",
     "parents": []
    }
   },
   "source": [
    "## Creating features : `IsAlone`, `Age*Class`"
   ]
  },
  {
   "cell_type": "code",
   "execution_count": 10,
   "metadata": {
    "canvas": {
     "comments": [],
     "componentType": "CodeCell",
     "copiedOriginId": null,
     "headerColor": "inherit",
     "id": "4b8d01d3-d638-4aa4-be2b-d4f87fef2110",
     "isComponent": true,
     "name": "Create 2 Features",
     "parents": [
      {
       "id": "5d772a3c-80be-4c78-aec2-d417fd8d6efe",
       "name": "Convert Feature - num to ord"
      }
     ]
    },
    "tags": []
   },
   "outputs": [
    {
     "data": {
      "image/png": "[encoded data removed]",
      "text/plain": [
       "<Figure size 432x288 with 1 Axes>"
      ]
     },
     "metadata": {
      "needs_background": "light"
     },
     "output_type": "display_data"
    },
    {
     "data": {
      "image/png": "[encoded data removed]",
      "text/plain": [
       "<Figure size 432x288 with 1 Axes>"
      ]
     },
     "metadata": {
      "needs_background": "light"
     },
     "output_type": "display_data"
    },
    {
     "data": {
      "image/png": "[encoded data removed]",
      "text/plain": [
       "<Figure size 432x288 with 1 Axes>"
      ]
     },
     "metadata": {
      "needs_background": "light"
     },
     "output_type": "display_data"
    }
   ],
   "source": [
    "for ds_name, ds in dataset.items():\n",
    "    # We can create a new feature for FamilySize which combines Parch and SibSp. This will enable us to drop Parch and SibSp from our datasets.\n",
    "    ds[\"FamilySize\"] = ds[\"SibSp\"] + ds[\"Parch\"] + 1\n",
    "\n",
    "    # We can create another feature called IsAlone.\n",
    "    ds[\"IsAlone\"] = 0\n",
    "    ds.loc[ds[\"FamilySize\"] == 1, \"IsAlone\"] = 1\n",
    "\n",
    "    # Let us drop Parch, SibSp, and FamilySize features in favor of IsAlone.\n",
    "    ds = ds.drop([\"Parch\", \"SibSp\"], axis=1)\n",
    "\n",
    "    # We can also create an artificial feature combining Age and Pclass.\n",
    "    ds[\"Age*Class\"] = ds.Age * ds.Pclass\n",
    "    dataset[ds_name] = ds\n",
    "\n",
    "dataset[\"train\"][[\"FamilySize\", \"Survived\"]].groupby(\n",
    "    [\"FamilySize\"],\n",
    "    as_index=False,\n",
    ").mean().plot.bar(x=\"FamilySize\")\n",
    "dataset[\"train\"][[\"IsAlone\", \"Survived\"]].groupby(\n",
    "    [\"IsAlone\"],\n",
    "    as_index=False,\n",
    ").mean().plot.bar(x=\"IsAlone\")\n",
    "dataset[\"train\"][[\"Age*Class\", \"Survived\"]].groupby(\n",
    "    [\"Age*Class\"],\n",
    "    as_index=False,\n",
    ").mean().plot.bar(x=\"Age*Class\")\n",
    "\n",
    "for ds_name, ds in dataset.items():\n",
    "    ds = ds.drop([\"FamilySize\"], axis=1)\n",
    "    dataset[ds_name] = ds"
   ]
  },
  {
   "cell_type": "markdown",
   "metadata": {
    "canvas": {
     "comments": [],
     "componentType": "CodeCell",
     "copiedOriginId": null,
     "headerColor": "inherit",
     "id": "0d5b953d-6635-46b4-8f58-392e188dc556",
     "isComponent": false,
     "name": "",
     "parents": []
    }
   },
   "source": [
    "---"
   ]
  },
  {
   "cell_type": "markdown",
   "metadata": {
    "_cell_guid": "69783c08-c8cc-a6ca-2a9a-5e75581c6d31",
    "_uuid": "a55f20dd6654610ff2d66c1bf3e4c6c73dcef9e5",
    "canvas": {
     "comments": [],
     "componentType": "CodeCell",
     "copiedOriginId": null,
     "headerColor": "none",
     "id": "e57fb21b-45bc-4f49-a8bb-4d49948dabb8",
     "isComponent": false,
     "name": "",
     "parents": []
    }
   },
   "source": [
    "# 3. Model, predict and solve\n",
    "1. Gaussian Naive Bayes\n",
    "2. KNN or k-Nearest Neighbors\n",
    "3. Logistic Regression\n",
    "4. Random Forrest"
   ]
  },
  {
   "cell_type": "markdown",
   "metadata": {
    "canvas": {
     "comments": [],
     "componentType": "CodeCell",
     "copiedOriginId": null,
     "headerColor": "inherit",
     "id": "5308f14f-2b1c-415b-b625-6c9d58061ed4",
     "isComponent": false,
     "name": "",
     "parents": []
    }
   },
   "source": [
    "## Prepare Train & Val set"
   ]
  },
  {
   "cell_type": "code",
   "execution_count": 6,
   "metadata": {
    "_cell_guid": "0acf54f9-6cf5-24b5-72d9-29b30052823a",
    "_uuid": "04d2235855f40cffd81f76b977a500fceaae87ad",
    "canvas": {
     "comments": [],
     "componentType": "CodeCell",
     "copiedOriginId": null,
     "headerColor": "none",
     "id": "7bf7bd54-532f-451f-89e0-a9eaed8c6b23",
     "isComponent": true,
     "name": "Prepare Train Val Sets",
     "parents": [
      {
       "id": "4b8d01d3-d638-4aa4-be2b-d4f87fef2110",
       "name": "Create 2 Features"
      }
     ]
    },
    "tags": []
   },
   "outputs": [],
   "source": [
    "train, val = train_test_split(dataset[\"train\"], test_size=0.3, random_state=0, stratify=dataset[\"train\"][\"Survived\"])\n",
    "\n",
    "X_train = train.iloc[:, 1:]\n",
    "Y_train = train.iloc[:, :1]\n",
    "X_val = val.iloc[:, 1:]\n",
    "Y_val = val.iloc[:, :1]\n",
    "\n",
    "X = dataset[\"train\"][dataset[\"train\"].columns[1:]]\n",
    "Y = dataset[\"train\"][\"Survived\"]"
   ]
  },
  {
   "cell_type": "markdown",
   "metadata": {
    "canvas": {
     "comments": [],
     "componentType": "CodeCell",
     "copiedOriginId": "83c8c16c-3ce6-4ed7-ac9e-c73be08eaf40",
     "headerColor": "inherit",
     "id": "e43b9d48-0d08-4db5-9342-1b178a0814c2",
     "isComponent": false,
     "name": "",
     "parents": []
    },
    "tags": []
   },
   "source": [
    "## Gaussian Naive Bayes"
   ]
  },
  {
   "cell_type": "code",
   "execution_count": null,
   "metadata": {
    "_cell_guid": "50378071-7043-ed8d-a782-70c947520dae",
    "_uuid": "723c835c29e8727bc9bad4b564731f2ca98025d0",
    "canvas": {
     "comments": [],
     "componentType": "CodeCell",
     "copiedOriginId": null,
     "headerColor": "inherit",
     "id": "570723e4-55c0-4246-878e-ca5e5031f25b",
     "isComponent": true,
     "name": "Model - GaussianNB",
     "parents": [
      {
       "id": "7bf7bd54-532f-451f-89e0-a9eaed8c6b23",
       "name": "Prepare Train Val Sets"
      }
     ]
    },
    "tags": []
   },
   "outputs": [
    {
     "name": "stdout",
     "output_type": "stream",
     "text": [
      "The accuracy of the Gaussian NB is 0.7574626865671642\n"
     ]
    }
   ],
   "source": [
    "clf_gsnb = GaussianNB()\n",
    "clf_gsnb.fit(X_train, Y_train)\n",
    "pred_gsnb = clf_gsnb.predict(X_val)\n",
    "acc_gsnb = metrics.accuracy_score(pred_gsnb, Y_val)\n",
    "print(f\"The accuracy of the Gaussian NB is {acc_gsnb}\")"
   ]
  },
  {
   "cell_type": "markdown",
   "metadata": {
    "canvas": {
     "comments": [],
     "componentType": "CodeCell",
     "copiedOriginId": null,
     "headerColor": "inherit",
     "id": "f6d4f01c-38e6-43c7-ab70-bb6990b4763a",
     "isComponent": false,
     "name": "",
     "parents": []
    }
   },
   "source": [
    "## K-Nearest Neighbours(KNN)"
   ]
  },
  {
   "cell_type": "code",
   "execution_count": 6,
   "metadata": {
    "_cell_guid": "ca14ae53-f05e-eb73-201c-064d7c3ed610",
    "_uuid": "54d86cd45703d459d452f89572771deaa8877999",
    "canvas": {
     "comments": [],
     "componentType": "CodeCell",
     "copiedOriginId": null,
     "headerColor": "none",
     "id": "2369de54-1b36-4e72-965b-436e0635f4e7",
     "isComponent": true,
     "name": "Model - KNN",
     "parents": [
      {
       "id": "7bf7bd54-532f-451f-89e0-a9eaed8c6b23",
       "name": "Prepare Train Val Sets"
      }
     ]
    },
    "tags": []
   },
   "outputs": [
    {
     "name": "stdout",
     "output_type": "stream",
     "text": [
      "The accuracy of the KNN is 0.7985074626865671\n"
     ]
    },
    {
     "data": {
      "image/png": "[encoded data removed]",
      "text/plain": [
       "<Figure size 864x432 with 1 Axes>"
      ]
     },
     "metadata": {
      "needs_background": "light"
     },
     "output_type": "display_data"
    },
    {
     "name": "stdout",
     "output_type": "stream",
     "text": [
      "Accuracies for different values of n are: [0.75       0.76119403 0.79104478 0.76492537 0.79850746 0.76865672\n",
      " 0.79477612 0.78358209 0.7761194  0.79477612] with the max value as  0.7985074626865671\n"
     ]
    }
   ],
   "source": [
    "clf_knn = KNeighborsClassifier(n_neighbors=5)\n",
    "clf_knn.fit(X_train, Y_train)\n",
    "pred_knn = clf_knn.predict(X_val)\n",
    "acc_knn = metrics.accuracy_score(pred_knn, Y_val)\n",
    "print(f\"The accuracy of the KNN is {acc_knn}\")\n",
    "\n",
    "search_range = list(range(1, 11))\n",
    "a = pd.Series()\n",
    "for i in search_range:\n",
    "    model = KNeighborsClassifier(n_neighbors=i)\n",
    "    model.fit(X_train, Y_train)\n",
    "    prediction = model.predict(X_val)\n",
    "    a = a.append(pd.Series(metrics.accuracy_score(prediction, Y_val)))\n",
    "\n",
    "plt.plot(search_range, a)\n",
    "plt.xticks(search_range)\n",
    "fig = plt.gcf()\n",
    "fig.set_size_inches(12, 6)\n",
    "plt.show()\n",
    "print(\"Accuracies for different values of n are:\", a.values, \"with the max value as \", a.values.max())\n",
    "del a, i, search_range, model, prediction, fig"
   ]
  },
  {
   "cell_type": "markdown",
   "metadata": {
    "canvas": {
     "comments": [],
     "componentType": "CodeCell",
     "copiedOriginId": null,
     "headerColor": "inherit",
     "id": "f0a13d35-2c9f-4ebc-9b1d-79341713103e",
     "isComponent": false,
     "name": "",
     "parents": []
    }
   },
   "source": [
    "## Logistic Regression"
   ]
  },
  {
   "cell_type": "code",
   "execution_count": 8,
   "metadata": {
    "_cell_guid": "0edd9322-db0b-9c37-172d-a3a4f8dec229",
    "_uuid": "a649b9c53f4c7b40694f60f5c8dc14ec5ef519ec",
    "canvas": {
     "comments": [],
     "componentType": "CodeCell",
     "copiedOriginId": null,
     "headerColor": "none",
     "id": "4a08f1a8-1091-46ea-8791-103535428af3",
     "isComponent": true,
     "name": "Model - Logistic Regression",
     "parents": [
      {
       "id": "7bf7bd54-532f-451f-89e0-a9eaed8c6b23",
       "name": "Prepare Train Val Sets"
      }
     ]
    },
    "tags": []
   },
   "outputs": [
    {
     "name": "stdout",
     "output_type": "stream",
     "text": [
      "The accuracy of the Logistic Regression is 0.8246268656716418\n"
     ]
    },
    {
     "data": {
      "text/html": [
       "<div>\n",
       "<style scoped>\n",
       "    .dataframe tbody tr th:only-of-type {\n",
       "        vertical-align: middle;\n",
       "    }\n",
       "\n",
       "    .dataframe tbody tr th {\n",
       "        vertical-align: top;\n",
       "    }\n",
       "\n",
       "    .dataframe thead th {\n",
       "        text-align: right;\n",
       "    }\n",
       "</style>\n",
       "<table border=\"1\" class=\"dataframe\">\n",
       "  <thead>\n",
       "    <tr style=\"text-align: right;\">\n",
       "      <th></th>\n",
       "      <th>Feature</th>\n",
       "      <th>Correlation</th>\n",
       "    </tr>\n",
       "  </thead>\n",
       "  <tbody>\n",
       "    <tr>\n",
       "      <th>1</th>\n",
       "      <td>Sex</td>\n",
       "      <td>2.173073</td>\n",
       "    </tr>\n",
       "    <tr>\n",
       "      <th>5</th>\n",
       "      <td>Title</td>\n",
       "      <td>0.373390</td>\n",
       "    </tr>\n",
       "    <tr>\n",
       "      <th>6</th>\n",
       "      <td>IsAlone</td>\n",
       "      <td>0.255659</td>\n",
       "    </tr>\n",
       "    <tr>\n",
       "      <th>2</th>\n",
       "      <td>Age</td>\n",
       "      <td>0.231659</td>\n",
       "    </tr>\n",
       "    <tr>\n",
       "      <th>4</th>\n",
       "      <td>Embarked</td>\n",
       "      <td>0.157717</td>\n",
       "    </tr>\n",
       "    <tr>\n",
       "      <th>3</th>\n",
       "      <td>Fare</td>\n",
       "      <td>0.093260</td>\n",
       "    </tr>\n",
       "    <tr>\n",
       "      <th>7</th>\n",
       "      <td>Age*Class</td>\n",
       "      <td>-0.249048</td>\n",
       "    </tr>\n",
       "    <tr>\n",
       "      <th>0</th>\n",
       "      <td>Pclass</td>\n",
       "      <td>-0.676265</td>\n",
       "    </tr>\n",
       "  </tbody>\n",
       "</table>\n",
       "</div>"
      ],
      "text/plain": [
       "     Feature  Correlation\n",
       "1        Sex     2.173073\n",
       "5      Title     0.373390\n",
       "6    IsAlone     0.255659\n",
       "2        Age     0.231659\n",
       "4   Embarked     0.157717\n",
       "3       Fare     0.093260\n",
       "7  Age*Class    -0.249048\n",
       "0     Pclass    -0.676265"
      ]
     },
     "metadata": {},
     "output_type": "display_data"
    }
   ],
   "source": [
    "# Logistic Regression\n",
    "clf_lg = LogisticRegression()\n",
    "clf_lg.fit(X_train, Y_train)\n",
    "pred_lg = clf_lg.predict(X_val)\n",
    "acc_lg = metrics.accuracy_score(pred_lg, Y_val)\n",
    "print(f\"The accuracy of the Logistic Regression is {acc_lg}\")\n",
    "\n",
    "# Check Coefficients of the features\n",
    "coeff_df = pd.DataFrame(dataset[\"train\"].columns.delete(0))\n",
    "coeff_df.columns = [\"Feature\"]\n",
    "coeff_df[\"Correlation\"] = pd.Series(clf_lg.coef_[0])\n",
    "display(coeff_df.sort_values(by=\"Correlation\", ascending=False))"
   ]
  },
  {
   "cell_type": "markdown",
   "metadata": {
    "canvas": {
     "comments": [],
     "componentType": "CodeCell",
     "copiedOriginId": null,
     "headerColor": "inherit",
     "id": "01fc2f22-4c56-4e91-82b9-913f68c6c3d7",
     "isComponent": false,
     "name": "",
     "parents": []
    }
   },
   "source": [
    "## Random Forest"
   ]
  },
  {
   "cell_type": "code",
   "execution_count": 4,
   "metadata": {
    "_cell_guid": "f0694a8e-b618-8ed9-6f0d-8c6fba2c4567",
    "_uuid": "483c647d2759a2703d20785a44f51b6dee47d0db",
    "canvas": {
     "comments": [],
     "componentType": "CodeCell",
     "copiedOriginId": null,
     "headerColor": "none",
     "id": "d994faf3-afb7-401e-a32f-0dff430ff43f",
     "isComponent": true,
     "name": "Model - Random Forest",
     "parents": [
      {
       "id": "7bf7bd54-532f-451f-89e0-a9eaed8c6b23",
       "name": "Prepare Train Val Sets"
      }
     ]
    },
    "tags": []
   },
   "outputs": [
    {
     "name": "stdout",
     "output_type": "stream",
     "text": [
      "The accuracy of the Random Forest is 0.8134328358208955\n"
     ]
    },
    {
     "data": {
      "image/png": "[encoded data removed]",
      "text/plain": [
       "<Figure size 864x432 with 1 Axes>"
      ]
     },
     "metadata": {
      "needs_background": "light"
     },
     "output_type": "display_data"
    },
    {
     "name": "stdout",
     "output_type": "stream",
     "text": [
      "Accuracies for different values of n are: [0.80223881 0.81343284 0.81343284 0.81343284] with the max value as  0.8134328358208955\n"
     ]
    }
   ],
   "source": [
    "clf_rf = RandomForestClassifier(n_estimators=150, random_state=42)\n",
    "clf_rf.fit(X_train, Y_train)\n",
    "pred_rf = clf_rf.predict(X_val)\n",
    "acc_rf = metrics.accuracy_score(pred_rf, Y_val)\n",
    "print(f\"The accuracy of the Random Forest is {acc_rf}\")\n",
    "\n",
    "search_range = list(range(100, 300, 50))\n",
    "a = pd.Series()\n",
    "for i in search_range:\n",
    "    model = RandomForestClassifier(n_estimators=i, random_state=42)\n",
    "    model.fit(X_train, Y_train)\n",
    "    prediction = model.predict(X_val)\n",
    "    a = a.append(pd.Series(metrics.accuracy_score(prediction, Y_val)))\n",
    "plt.plot(search_range, a)\n",
    "plt.xticks(search_range)\n",
    "fig = plt.gcf()\n",
    "fig.set_size_inches(12, 6)\n",
    "plt.show()\n",
    "print(\"Accuracies for different values of n are:\", a.values, \"with the max value as \", a.values.max())\n",
    "del a, i, search_range, model, prediction, fig"
   ]
  },
  {
   "cell_type": "markdown",
   "metadata": {
    "canvas": {
     "comments": [],
     "componentType": "CodeCell",
     "copiedOriginId": null,
     "headerColor": "inherit",
     "id": "4e4e6407-6d6b-450a-8a92-49de717f76ce",
     "isComponent": false,
     "name": "",
     "parents": []
    }
   },
   "source": [
    "---"
   ]
  },
  {
   "cell_type": "markdown",
   "metadata": {
    "_cell_guid": "f6c9eef8-83dd-581c-2d8e-ce932fe3a44d",
    "_uuid": "2c1428d022430ea594af983a433757e11b47c50c",
    "canvas": {
     "comments": [],
     "componentType": "CodeCell",
     "copiedOriginId": null,
     "headerColor": "none",
     "id": "def8811e-36e2-4859-be80-5a3bee115d40",
     "isComponent": false,
     "name": "",
     "parents": []
    }
   },
   "source": [
    "# 4. Model evaluation"
   ]
  },
  {
   "cell_type": "markdown",
   "metadata": {
    "canvas": {
     "comments": [],
     "componentType": "CodeCell",
     "copiedOriginId": null,
     "headerColor": "inherit",
     "id": "47fdf7a6-f8de-4f12-97e5-95b9f3ce6399",
     "isComponent": false,
     "name": "",
     "parents": []
    }
   },
   "source": [
    "## K-Fold Cross Validation"
   ]
  },
  {
   "cell_type": "code",
   "execution_count": 24,
   "metadata": {
    "_cell_guid": "1f3cebe0-31af-70b2-1ce4-0fd406bcdfc6",
    "_uuid": "06a52babe50e0dd837b553c78fc73872168e1c7d",
    "canvas": {
     "comments": [],
     "componentType": "CodeCell",
     "copiedOriginId": null,
     "headerColor": "none",
     "id": "34f9d569-5b1d-4941-96d0-88db968756dd",
     "isComponent": true,
     "name": "K-Fold Cross Validation",
     "parents": [
      {
       "id": "570723e4-55c0-4246-878e-ca5e5031f25b",
       "name": "Model - GaussianNB"
      },
      {
       "id": "2369de54-1b36-4e72-965b-436e0635f4e7",
       "name": "Model - KNN"
      },
      {
       "id": "4a08f1a8-1091-46ea-8791-103535428af3",
       "name": "Model - Logistic Regression"
      },
      {
       "id": "d994faf3-afb7-401e-a32f-0dff430ff43f",
       "name": "Model - Random Forest"
      }
     ]
    },
    "tags": []
   },
   "outputs": [
    {
     "data": {
      "text/html": [
       "<div>\n",
       "<style scoped>\n",
       "    .dataframe tbody tr th:only-of-type {\n",
       "        vertical-align: middle;\n",
       "    }\n",
       "\n",
       "    .dataframe tbody tr th {\n",
       "        vertical-align: top;\n",
       "    }\n",
       "\n",
       "    .dataframe thead th {\n",
       "        text-align: right;\n",
       "    }\n",
       "</style>\n",
       "<table border=\"1\" class=\"dataframe\">\n",
       "  <thead>\n",
       "    <tr style=\"text-align: right;\">\n",
       "      <th></th>\n",
       "      <th>CV Mean</th>\n",
       "      <th>Std</th>\n",
       "    </tr>\n",
       "  </thead>\n",
       "  <tbody>\n",
       "    <tr>\n",
       "      <th>Gaussian Naive Bayes</th>\n",
       "      <td>0.711573</td>\n",
       "      <td>0.071717</td>\n",
       "    </tr>\n",
       "    <tr>\n",
       "      <th>KNN</th>\n",
       "      <td>0.801411</td>\n",
       "      <td>0.039478</td>\n",
       "    </tr>\n",
       "    <tr>\n",
       "      <th>Logistic Regression</th>\n",
       "      <td>0.804707</td>\n",
       "      <td>0.038364</td>\n",
       "    </tr>\n",
       "    <tr>\n",
       "      <th>Random Forest</th>\n",
       "      <td>0.800287</td>\n",
       "      <td>0.038103</td>\n",
       "    </tr>\n",
       "  </tbody>\n",
       "</table>\n",
       "</div>"
      ],
      "text/plain": [
       "                       CV Mean       Std\n",
       "Gaussian Naive Bayes  0.711573  0.071717\n",
       "KNN                   0.801411  0.039478\n",
       "Logistic Regression   0.804707  0.038364\n",
       "Random Forest         0.800287  0.038103"
      ]
     },
     "metadata": {},
     "output_type": "display_data"
    },
    {
     "data": {
      "image/png": "[encoded data removed]",
      "text/plain": [
       "<Figure size 864x432 with 1 Axes>"
      ]
     },
     "metadata": {
      "needs_background": "light"
     },
     "output_type": "display_data"
    }
   ],
   "source": [
    "kfold = KFold(n_splits=10)  # k=10, split the data into 10 equal parts\n",
    "cv_mean = []\n",
    "accuracy = []\n",
    "std = []\n",
    "classifiers = [\"Gaussian Naive Bayes\", \"KNN\", \"Logistic Regression\", \"Random Forest\"]\n",
    "model_list = [\n",
    "    GaussianNB(),\n",
    "    KNeighborsClassifier(n_neighbors=5),\n",
    "    LogisticRegression(),\n",
    "    RandomForestClassifier(n_estimators=150, random_state=42),\n",
    "]\n",
    "for model in model_list:\n",
    "    cv_result = cross_val_score(model, X, Y, cv=kfold, scoring=\"accuracy\")\n",
    "    cv_mean.append(cv_result.mean())\n",
    "    std.append(cv_result.std())\n",
    "    accuracy.append(cv_result)\n",
    "\n",
    "df_kfold_result = pd.DataFrame(\n",
    "    {\"CV Mean\": cv_mean, \"Std\": std},\n",
    "    index=classifiers,\n",
    ")\n",
    "display(df_kfold_result)\n",
    "\n",
    "plt.subplots(figsize=(12, 6))\n",
    "box = pd.DataFrame(accuracy, index=classifiers)\n",
    "box.T.boxplot()\n",
    "plt.show()"
   ]
  },
  {
   "cell_type": "markdown",
   "metadata": {
    "canvas": {
     "comments": [],
     "componentType": "CodeCell",
     "copiedOriginId": null,
     "headerColor": "inherit",
     "id": "09d5b571-d663-4522-98b5-76da99826b60",
     "isComponent": false,
     "name": "",
     "parents": []
    }
   },
   "source": [
    "## Confusion Matrix"
   ]
  },
  {
   "cell_type": "code",
   "execution_count": 23,
   "metadata": {
    "canvas": {
     "comments": [],
     "componentType": "CodeCell",
     "copiedOriginId": null,
     "headerColor": "inherit",
     "id": "2e5331e9-c53d-4c99-97af-e51d5b4dd5f7",
     "isComponent": true,
     "name": "Confusion Matrix",
     "parents": [
      {
       "id": "34f9d569-5b1d-4941-96d0-88db968756dd",
       "name": "K-Fold Cross Validation"
      }
     ]
    },
    "tags": []
   },
   "outputs": [
    {
     "data": {
      "image/png": "[encoded data removed]",
      "text/plain": [
       "<Figure size 720x720 with 8 Axes>"
      ]
     },
     "metadata": {
      "needs_background": "light"
     },
     "output_type": "display_data"
    }
   ],
   "source": [
    "f, ax = plt.subplots(2, 2, figsize=(10, 10))\n",
    "y_pred = cross_val_predict(GaussianNB(), X, Y, cv=10)\n",
    "sns.heatmap(confusion_matrix(Y, y_pred), ax=ax[0, 0], annot=True, fmt=\"2.0f\")\n",
    "ax[0, 0].set_title(\"Matrix for Gaussian NB\")\n",
    "\n",
    "y_pred = cross_val_predict(KNeighborsClassifier(n_neighbors=9), X, Y, cv=10)\n",
    "sns.heatmap(confusion_matrix(Y, y_pred), ax=ax[0, 1], annot=True, fmt=\"2.0f\")\n",
    "ax[0, 1].set_title(\"Matrix for KNN\")\n",
    "\n",
    "y_pred = cross_val_predict(LogisticRegression(), X, Y, cv=10)\n",
    "sns.heatmap(confusion_matrix(Y, y_pred), ax=ax[1, 0], annot=True, fmt=\"2.0f\")\n",
    "ax[1, 0].set_title(\"Matrix for Logistic Regression\")\n",
    "\n",
    "y_pred = cross_val_predict(RandomForestClassifier(n_estimators=100), X, Y, cv=10)\n",
    "sns.heatmap(confusion_matrix(Y, y_pred), ax=ax[1, 1], annot=True, fmt=\"2.0f\")\n",
    "ax[1, 1].set_title(\"Matrix for Random-Forests\")\n",
    "\n",
    "plt.subplots_adjust(hspace=0.2, wspace=0.2)\n",
    "plt.show()"
   ]
  },
  {
   "cell_type": "markdown",
   "metadata": {
    "canvas": {
     "comments": [],
     "componentType": "CodeCell",
     "copiedOriginId": null,
     "headerColor": "inherit",
     "id": "1cc7453e-91ad-4a75-a9c7-c33a59e9500a",
     "isComponent": false,
     "name": "",
     "parents": []
    }
   },
   "source": [
    "# 5. Ensemble & Submission"
   ]
  },
  {
   "cell_type": "code",
   "execution_count": 27,
   "metadata": {
    "canvas": {
     "comments": [],
     "componentType": "CodeCell",
     "copiedOriginId": null,
     "headerColor": "inherit",
     "id": "0f6985a3-5fbf-4013-9c96-e15c725a0c92",
     "isComponent": true,
     "name": "Voting Classifier",
     "parents": [
      {
       "id": "2e5331e9-c53d-4c99-97af-e51d5b4dd5f7",
       "name": "Confusion Matrix"
      }
     ]
    },
    "tags": []
   },
   "outputs": [
    {
     "name": "stdout",
     "output_type": "stream",
     "text": [
      "The accuracy for ensembled model is: 0.8283582089552238\n",
      "The cross validated score is 0.8092759051186018\n"
     ]
    }
   ],
   "source": [
    "ensemble_clf = VotingClassifier(\n",
    "    estimators=list(zip(classifiers, model_list)),\n",
    "    voting=\"hard\",\n",
    ").fit(X_train, Y_train)\n",
    "print(\"The accuracy for ensembled model is:\", ensemble_clf.score(X_val, Y_val))\n",
    "cross = cross_val_score(ensemble_clf, X, Y, cv=10, scoring=\"accuracy\")\n",
    "print(\"The cross validated score is\", cross.mean())"
   ]
  },
  {
   "cell_type": "code",
   "execution_count": 13,
   "metadata": {
    "_cell_guid": "28854d36-051f-3ef0-5535-fa5ba6a9bef7",
    "_uuid": "82b31ea933b3026bd038a8370d651efdcdb3e4d7",
    "canvas": {
     "comments": [],
     "componentType": "CodeCell",
     "copiedOriginId": null,
     "headerColor": "none",
     "id": "a304dd3d-7149-4e57-b62e-85c781a799c0",
     "isComponent": true,
     "name": "Submission",
     "parents": [
      {
       "id": "0f6985a3-5fbf-4013-9c96-e15c725a0c92",
       "name": "Voting Classifier"
      }
     ]
    },
    "tags": []
   },
   "outputs": [
    {
     "data": {
      "text/html": [
       "<div>\n",
       "<style scoped>\n",
       "    .dataframe tbody tr th:only-of-type {\n",
       "        vertical-align: middle;\n",
       "    }\n",
       "\n",
       "    .dataframe tbody tr th {\n",
       "        vertical-align: top;\n",
       "    }\n",
       "\n",
       "    .dataframe thead th {\n",
       "        text-align: right;\n",
       "    }\n",
       "</style>\n",
       "<table border=\"1\" class=\"dataframe\">\n",
       "  <thead>\n",
       "    <tr style=\"text-align: right;\">\n",
       "      <th></th>\n",
       "      <th>PassengerId</th>\n",
       "      <th>Survived</th>\n",
       "    </tr>\n",
       "  </thead>\n",
       "  <tbody>\n",
       "    <tr>\n",
       "      <th>0</th>\n",
       "      <td>892</td>\n",
       "      <td>0</td>\n",
       "    </tr>\n",
       "    <tr>\n",
       "      <th>1</th>\n",
       "      <td>893</td>\n",
       "      <td>0</td>\n",
       "    </tr>\n",
       "    <tr>\n",
       "      <th>2</th>\n",
       "      <td>894</td>\n",
       "      <td>0</td>\n",
       "    </tr>\n",
       "    <tr>\n",
       "      <th>3</th>\n",
       "      <td>895</td>\n",
       "      <td>0</td>\n",
       "    </tr>\n",
       "    <tr>\n",
       "      <th>4</th>\n",
       "      <td>896</td>\n",
       "      <td>1</td>\n",
       "    </tr>\n",
       "  </tbody>\n",
       "</table>\n",
       "</div>"
      ],
      "text/plain": [
       "   PassengerId  Survived\n",
       "0          892         0\n",
       "1          893         0\n",
       "2          894         0\n",
       "3          895         0\n",
       "4          896         1"
      ]
     },
     "metadata": {},
     "output_type": "display_data"
    }
   ],
   "source": [
    "Y_pred = ensemble_clf.predict(dataset[\"test\"])\n",
    "Y_pred\n",
    "df_submission = pd.DataFrame({\"PassengerId\": passenger_id, \"Survived\": Y_pred})\n",
    "display(df_submission.head())\n",
    "df_submission.to_csv(\"submission.csv\", index=False)"
   ]
  },
  {
   "cell_type": "markdown",
   "metadata": {
    "_cell_guid": "fcfc8d9f-e955-cf70-5843-1fb764c54699",
    "_uuid": "0523a03b329df58c33ed672e5fb6cd2c9af1cae3",
    "canvas": {
     "comments": [],
     "componentType": "CodeCell",
     "copiedOriginId": null,
     "headerColor": "none",
     "id": "032cc4d9-3104-455e-bb6a-95ab7c5db8e8",
     "isComponent": false,
     "name": "",
     "parents": []
    }
   },
   "source": [
    "Our submission to the competition site Kaggle results in scoring 3,199 of 13,802 competition entries."
   ]
  },
  {
   "cell_type": "markdown",
   "metadata": {
    "_cell_guid": "aeec9210-f9d8-cd7c-c4cf-a87376d5f693",
    "_uuid": "cdae56d6adbfb15ff9c491c645ae46e2c91d75ce",
    "canvas": {
     "comments": [],
     "componentType": "CodeCell",
     "copiedOriginId": null,
     "headerColor": "none",
     "id": "caf5a5ce-63a4-48f0-a0fb-7dd35c3ede6f",
     "isComponent": false,
     "name": "",
     "parents": []
    }
   },
   "source": [
    "## References\n",
    "- [A journey through Titanic](https://www.kaggle.com/omarelgabry/titanic/a-journey-through-titanic)\n",
    "- [Getting Started with Pandas: Kaggle's Titanic Competition](https://www.kaggle.com/c/titanic/details/getting-started-with-random-forests)\n",
    "- [Titanic Best Working Classifier](https://www.kaggle.com/sinakhorami/titanic/titanic-best-working-classifier)\n",
    "- [Titanic Data Science Solutions](https://www.kaggle.com/code/startupsci/titanic-data-science-solutions/notebook)\n",
    "- [EDA To Prediction(DieTanic)](https://www.kaggle.com/code/ash316/eda-to-prediction-dietanic)"
   ]
  }
 ],
 "metadata": {
  "_change_revision": 0,
  "_is_fork": false,
  "canvas": {
   "colorPalette": [
    "inherit",
    "inherit",
    "inherit",
    "inherit",
    "inherit",
    "inherit",
    "inherit",
    "inherit",
    "inherit",
    "inherit"
   ],
   "parameters": [],
   "version": "1.0"
  },
  "kernelspec": {
   "display_name": "Python 3 (ipykernel)",
   "language": "python",
   "name": "python3"
  },
  "language_info": {
   "codemirror_mode": {
    "name": "ipython",
    "version": 3
   },
   "file_extension": ".py",
   "mimetype": "text/x-python",
   "name": "python",
   "nbconvert_exporter": "python",
   "pygments_lexer": "ipython3",
   "version": "3.8.13"
  }
 },
 "nbformat": 4,
 "nbformat_minor": 4
}
