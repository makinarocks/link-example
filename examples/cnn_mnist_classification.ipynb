{
 "cells": [
  {
   "cell_type": "markdown",
   "id": "825c742f-0ae7-4e3f-99b7-e8420c9c5152",
   "metadata": {
    "canvas": {
     "comments": [],
     "componentType": "CodeCell",
     "copiedOriginId": null,
     "headerColor": "none",
     "id": "fb702cab-f44c-4821-8dbf-9d9c24e01df5",
     "isComponent": false,
     "name": "",
     "parents": []
    },
    "tags": []
   },
   "source": [
    "# MNIST classification with PyTorch\n",
    "\n",
    "## Fully connected layers vs Convolutional Neural Network (CNN)\n",
    "\n",
    "Adapted from: https://github.com/Atcold/pytorch-Deep-Learning/blob/master/06-convnet.ipynb"
   ]
  },
  {
   "cell_type": "markdown",
   "id": "844dfc02-cd39-4058-89e3-32ae25f8c21d",
   "metadata": {
    "canvas": {
     "comments": [],
     "componentType": "CodeCell",
     "copiedOriginId": null,
     "headerColor": "none",
     "id": "811c6c65-84ca-4617-aa07-d99040e51aed",
     "isComponent": false,
     "name": "",
     "parents": []
    }
   },
   "source": [
    "## Cell color\n",
    "- Pink: Related to FCN (Fully-connected network) model\n",
    "- Yellow: Related to CNN (Convolutional Neural network) model\n",
    "- Skyblue: Related to visualization"
   ]
  },
  {
   "cell_type": "markdown",
   "id": "b85cac1c-8810-4413-9f78-183f59851403",
   "metadata": {
    "canvas": {
     "comments": [],
     "componentType": "CodeCell",
     "copiedOriginId": null,
     "headerColor": "inherit",
     "id": "cc247fd2-c783-4712-b062-4e09176f6764",
     "isComponent": false,
     "name": "",
     "parents": []
    }
   },
   "source": [
    "### Required Python Packages\n",
    "- `torch`\n",
    "- `matplotlib`\n",
    "- `tqdm`\n",
    "\n",
    "Run the following cell to install the packages. "
   ]
  },
  {
   "cell_type": "code",
   "execution_count": null,
   "id": "6b1aae00-04e6-4883-9e7d-cdf808e93c10",
   "metadata": {
    "canvas": {
     "comments": [],
     "componentType": "CodeCell",
     "copiedOriginId": null,
     "headerColor": "inherit",
     "id": "b9ddbb13-1fe1-4aa8-ac54-056a068fafa6",
     "isComponent": false,
     "name": "",
     "parents": []
    }
   },
   "outputs": [],
   "source": [
    "#\n",
    "# Required Packages\n",
    "#   Run this cell to install required packages\n",
    "#\n",
    "!pip install \"tqdm>=4.64\"\n",
    "!pip install \"torch>=1.9+cpu\"\n",
    "!pip install \"matplotlib>=3.5\""
   ]
  },
  {
   "cell_type": "code",
   "execution_count": 4,
   "id": "0fc9bc91-150f-4753-a15e-9178fe1fea54",
   "metadata": {
    "canvas": {
     "comments": [],
     "componentType": "CodeCell",
     "copiedOriginId": null,
     "headerColor": "none",
     "id": "341de75f-bacb-4af8-9269-f974f4547ca8",
     "isComponent": true,
     "name": "Import packages",
     "parents": []
    },
    "tags": []
   },
   "outputs": [],
   "source": [
    "import matplotlib.pyplot as plt\n",
    "import numpy\n",
    "import torch\n",
    "import torch.nn as nn\n",
    "import torch.nn.functional as F\n",
    "from torch.utils.data import DataLoader\n",
    "from torchvision import datasets, transforms\n",
    "from tqdm import tqdm"
   ]
  },
  {
   "cell_type": "markdown",
   "id": "798532a2-3909-41ec-a2ff-f1ccc070870c",
   "metadata": {
    "canvas": {
     "comments": [],
     "componentType": "CodeCell",
     "copiedOriginId": null,
     "headerColor": "none",
     "id": "f0e2a43a-d5bd-4f6c-bb5b-8bfa3fae2dd9",
     "isComponent": false,
     "name": "",
     "parents": []
    }
   },
   "source": [
    "### Load the Dataset (MNIST)"
   ]
  },
  {
   "cell_type": "code",
   "execution_count": null,
   "id": "9de0ed7d-df92-4ed5-9edc-1cb789eec6d5",
   "metadata": {
    "canvas": {
     "comments": [],
     "componentType": "CodeCell",
     "copiedOriginId": null,
     "headerColor": "none",
     "id": "c1c9d3af-d77f-40cd-b145-3976174d3032",
     "isComponent": true,
     "name": "Load MNIST dataset",
     "parents": [
      {
       "id": "341de75f-bacb-4af8-9269-f974f4547ca8",
       "name": "Import packages"
      }
     ]
    },
    "tags": []
   },
   "outputs": [],
   "source": [
    "input_size = 28 * 28  # images are 28x28 pixels\n",
    "output_size = 10  # there are 10 classes\n",
    "\n",
    "train_loader = DataLoader(\n",
    "    datasets.MNIST(\n",
    "        \"mnist\",\n",
    "        train=True,\n",
    "        download=True,\n",
    "        transform=transforms.Compose([transforms.ToTensor(), transforms.Normalize((0.1307,), (0.3081,))]),\n",
    "    ),\n",
    "    batch_size=256,\n",
    "    shuffle=True,\n",
    ")\n",
    "\n",
    "test_loader = DataLoader(\n",
    "    datasets.MNIST(\n",
    "        \"mnist\",\n",
    "        train=False,\n",
    "        download=True,\n",
    "        transform=transforms.Compose([transforms.ToTensor(), transforms.Normalize((0.1307,), (0.3081,))]),\n",
    "    ),\n",
    "    batch_size=1000,\n",
    "    shuffle=False,\n",
    ")"
   ]
  },
  {
   "cell_type": "code",
   "execution_count": 6,
   "id": "f0fdb60f-e4c3-4446-a472-b95d4d11bf9b",
   "metadata": {
    "canvas": {
     "comments": [],
     "componentType": "CodeCell",
     "copiedOriginId": null,
     "headerColor": "#00E3FF",
     "id": "ee9b8b42-0765-4acc-af7e-fccc4a70491f",
     "isComponent": true,
     "name": "Show some images",
     "parents": [
      {
       "id": "c1c9d3af-d77f-40cd-b145-3976174d3032",
       "name": "Load MNIST dataset"
      }
     ]
    },
    "tags": []
   },
   "outputs": [
    {
     "data": {
      "image/png": "[encoded data removed]",
      "text/plain": [
       "<Figure size 1152x432 with 10 Axes>"
      ]
     },
     "metadata": {
      "needs_background": "light"
     },
     "output_type": "display_data"
    }
   ],
   "source": [
    "# show some images\n",
    "plt.figure(figsize=(16, 6))\n",
    "for i in range(10):\n",
    "    plt.subplot(2, 5, i + 1)\n",
    "    image, _ = train_loader.dataset.__getitem__(i)\n",
    "    plt.imshow(image.squeeze().numpy())\n",
    "    plt.axis(\"off\");"
   ]
  },
  {
   "cell_type": "markdown",
   "id": "f62a44cf-6cbe-41c9-8d0e-e4ed17c91a7f",
   "metadata": {
    "canvas": {
     "comments": [],
     "componentType": "CodeCell",
     "copiedOriginId": null,
     "headerColor": "none",
     "id": "a298fe26-4ff8-4c03-89c6-a1351a6253d2",
     "isComponent": false,
     "name": "",
     "parents": []
    }
   },
   "source": [
    "### Train and test functions"
   ]
  },
  {
   "cell_type": "code",
   "execution_count": 7,
   "id": "abe73dae-f8a5-4d36-9fbc-c6cb5e51295e",
   "metadata": {
    "canvas": {
     "comments": [],
     "componentType": "CodeCell",
     "copiedOriginId": null,
     "headerColor": "none",
     "id": "e9f3371a-e347-4564-80c1-f4e1a17da0d3",
     "isComponent": true,
     "name": "Define train and test function",
     "parents": [
      {
       "id": "c1c9d3af-d77f-40cd-b145-3976174d3032",
       "name": "Load MNIST dataset"
      }
     ]
    },
    "tags": []
   },
   "outputs": [],
   "source": [
    "device = torch.device(\"cuda:0\" if torch.cuda.is_available() else \"cpu\")\n",
    "criterion = nn.CrossEntropyLoss()\n",
    "accuracy_list = []\n",
    "\n",
    "\n",
    "def train(epoch, model, optimizer):\n",
    "    model.train()\n",
    "    print(f\"Train Epoch {epoch}\")\n",
    "\n",
    "    pbar = tqdm(train_loader)\n",
    "    for batch_idx, (data, target) in enumerate(pbar):\n",
    "        # send to device\n",
    "        data, target = data.to(device), target.to(device)\n",
    "\n",
    "        # permute pixels\n",
    "        data = data.view(-1, 28 * 28)\n",
    "        data = data.view(-1, 1, 28, 28)\n",
    "\n",
    "        optimizer.zero_grad()\n",
    "        output = model(data)\n",
    "        loss = criterion(output, target)\n",
    "        loss.backward()\n",
    "        optimizer.step()\n",
    "\n",
    "        pbar.set_description(f\"loss: {loss.item():.4f}\")\n",
    "\n",
    "\n",
    "def test(model, data_loader):\n",
    "    model.eval()\n",
    "    test_loss = 0\n",
    "    correct = 0\n",
    "\n",
    "    with torch.no_grad():\n",
    "        for data, target in data_loader:\n",
    "            # send to device\n",
    "            data, target = data.to(device), target.to(device)\n",
    "\n",
    "            # permute pixels\n",
    "            data = data.view(-1, 28 * 28)\n",
    "            data = data.view(-1, 1, 28, 28)\n",
    "            output = model(data)\n",
    "            test_loss += criterion(output, target)\n",
    "            pred = output.data.max(1, keepdim=True)[1]  # get the index of the max log-probability\n",
    "            correct += pred.eq(target.data.view_as(pred)).cpu().sum().item()\n",
    "\n",
    "    test_loss /= len(data_loader)\n",
    "    accuracy = 100.0 * correct / len(data_loader.dataset)\n",
    "    return test_loss, accuracy\n",
    "\n",
    "\n",
    "# get number of parameters in the model\n",
    "def get_n_params(model):\n",
    "    return sum(p.numel() for p in model.parameters() if p.requires_grad)"
   ]
  },
  {
   "cell_type": "markdown",
   "id": "fff47fe1-adcd-4d8a-8524-bf5fafb28d85",
   "metadata": {
    "canvas": {
     "comments": [],
     "componentType": "CodeCell",
     "copiedOriginId": null,
     "headerColor": "none",
     "id": "768dc3ec-38d3-4174-8e2d-0cd0eab16883",
     "isComponent": false,
     "name": "",
     "parents": []
    }
   },
   "source": [
    "### CNN model"
   ]
  },
  {
   "cell_type": "code",
   "execution_count": 8,
   "id": "fcc627b7-2f68-4432-8468-ce664704f7cc",
   "metadata": {
    "canvas": {
     "comments": [],
     "componentType": "CodeCell",
     "copiedOriginId": null,
     "headerColor": "#FAFF00",
     "id": "0e7afb99-966a-4372-ab33-d8579b44fa4e",
     "isComponent": true,
     "name": "Define CNN model",
     "parents": [
      {
       "id": "e9f3371a-e347-4564-80c1-f4e1a17da0d3",
       "name": "Define train and test function"
      }
     ]
    },
    "tags": []
   },
   "outputs": [],
   "source": [
    "class CNN(nn.Module):\n",
    "    def __init__(self):\n",
    "        super(CNN, self).__init__()\n",
    "        self.conv1 = nn.Conv2d(in_channels=1, out_channels=cnn_hidden_channels, kernel_size=cnn_kernel_size)\n",
    "        self.conv2 = nn.Conv2d(cnn_hidden_channels, cnn_hidden_channels, kernel_size=cnn_kernel_size)\n",
    "        self.fc1 = nn.Linear(cnn_hidden_channels * 4 * 4, 32)\n",
    "        self.fc2 = nn.Linear(32, 10)\n",
    "\n",
    "    def forward(self, x):\n",
    "        x = self.conv1(x)\n",
    "        x = F.relu(x)\n",
    "        x = F.max_pool2d(x, kernel_size=2)\n",
    "        x = self.conv2(x)\n",
    "        x = F.relu(x)\n",
    "        x = F.max_pool2d(x, kernel_size=2)\n",
    "        x = x.view(-1, cnn_hidden_channels * 4 * 4)\n",
    "        x = self.fc1(x)\n",
    "        x = F.relu(x)\n",
    "        x = self.fc2(x)\n",
    "        return x"
   ]
  },
  {
   "cell_type": "markdown",
   "id": "c0cfdabf-bd6d-4332-94d7-83fe12695584",
   "metadata": {
    "canvas": {
     "comments": [],
     "componentType": "CodeCell",
     "copiedOriginId": null,
     "headerColor": "none",
     "id": "67675843-5e88-41dd-b3e4-0fd8a69f0abb",
     "isComponent": false,
     "name": "",
     "parents": []
    }
   },
   "source": [
    "### FCN (Fully Connected Network) model"
   ]
  },
  {
   "cell_type": "code",
   "execution_count": 9,
   "id": "e256ca5a-7ab8-4add-882d-6826eb012e87",
   "metadata": {
    "canvas": {
     "comments": [],
     "componentType": "CodeCell",
     "copiedOriginId": null,
     "headerColor": "#FF00C3",
     "id": "0e159b4a-5123-486a-90f2-cb62ceb58095",
     "isComponent": true,
     "name": "Define FCN model",
     "parents": [
      {
       "id": "e9f3371a-e347-4564-80c1-f4e1a17da0d3",
       "name": "Define train and test function"
      }
     ]
    },
    "tags": []
   },
   "outputs": [],
   "source": [
    "class FCN(nn.Module):\n",
    "    def __init__(self, input_size):\n",
    "        super(FCN, self).__init__()\n",
    "        self.input_size = input_size\n",
    "        self.network = nn.Sequential(\n",
    "            nn.Linear(input_size, fcn_hidden),\n",
    "            nn.ReLU(inplace=False),\n",
    "            nn.Linear(fcn_hidden, fcn_hidden),\n",
    "            nn.ReLU(inplace=False),\n",
    "            nn.Linear(fcn_hidden, 10),\n",
    "        )\n",
    "\n",
    "    def forward(self, x):\n",
    "        x = x.view(-1, self.input_size)\n",
    "        return self.network(x)"
   ]
  },
  {
   "cell_type": "markdown",
   "id": "85c5dbbb-532a-47f0-846d-7b7aef911881",
   "metadata": {
    "canvas": {
     "comments": [],
     "componentType": "CodeCell",
     "copiedOriginId": null,
     "headerColor": "none",
     "id": "a2e18508-101e-4f6c-927b-a1175e5b0244",
     "isComponent": false,
     "name": "",
     "parents": []
    }
   },
   "source": [
    "### Train and test CNN"
   ]
  },
  {
   "cell_type": "code",
   "execution_count": 10,
   "id": "d4086386-af5d-43a5-b3f7-a20388d3b573",
   "metadata": {
    "canvas": {
     "comments": [],
     "componentType": "CodeCell",
     "copiedOriginId": null,
     "headerColor": "#FAFF00",
     "id": "01d4c6ec-e129-4397-b816-402c0b292d88",
     "isComponent": true,
     "name": "Train CNN",
     "parents": [
      {
       "id": "0e7afb99-966a-4372-ab33-d8579b44fa4e",
       "name": "Define CNN model"
      }
     ]
    },
    "tags": []
   },
   "outputs": [
    {
     "name": "stdout",
     "output_type": "stream",
     "text": [
      "Number of parameters: 6274\n",
      "Train Epoch 1\n"
     ]
    },
    {
     "name": "stderr",
     "output_type": "stream",
     "text": [
      "loss: 0.1879: 100%|█████████████████████████████████████████████| 235/235 [00:40<00:00,  5.87it/s]\n"
     ]
    },
    {
     "name": "stdout",
     "output_type": "stream",
     "text": [
      "Train loss: 0.1666, Train accuracy: 95.10%\n",
      "Test loss: 0.1500, Test accuracy: 95.54%\n"
     ]
    }
   ],
   "source": [
    "model_cnn = CNN()\n",
    "model_cnn.to(device)\n",
    "optimizer = torch.optim.Adam(model_cnn.parameters(), lr=1e-3)\n",
    "print(\"Number of parameters: {}\".format(get_n_params(model_cnn)))\n",
    "\n",
    "for epoch in range(epochs):\n",
    "    train(epoch + 1, model_cnn, optimizer)\n",
    "    train_loss, cnn_train_acc = test(model_cnn, train_loader)\n",
    "    print(f\"Train loss: {train_loss:.4f}, Train accuracy: {cnn_train_acc:.2f}%\")\n",
    "    test_loss, cnn_test_acc = test(model_cnn, test_loader)\n",
    "    print(f\"Test loss: {test_loss:.4f}, Test accuracy: {cnn_test_acc:.2f}%\")"
   ]
  },
  {
   "cell_type": "markdown",
   "id": "c758e55e-1cbf-4378-9fdd-ce88c0d4ae46",
   "metadata": {
    "canvas": {
     "comments": [],
     "componentType": "CodeCell",
     "copiedOriginId": null,
     "headerColor": "none",
     "id": "1af576ec-c96a-4de7-b61f-da0b05ed50a2",
     "isComponent": false,
     "name": "",
     "parents": []
    }
   },
   "source": [
    "### Train and test FCN"
   ]
  },
  {
   "cell_type": "code",
   "execution_count": 11,
   "id": "f73fcf6d-bf2f-4fc4-bd4c-57bf368df5db",
   "metadata": {
    "canvas": {
     "comments": [],
     "componentType": "CodeCell",
     "copiedOriginId": null,
     "headerColor": "#FF00C3",
     "id": "05d3595a-0216-4508-ab71-b1c3fc00940c",
     "isComponent": true,
     "name": "Train FCN",
     "parents": [
      {
       "id": "0e159b4a-5123-486a-90f2-cb62ceb58095",
       "name": "Define FCN model"
      }
     ]
    },
    "tags": []
   },
   "outputs": [
    {
     "name": "stdout",
     "output_type": "stream",
     "text": [
      "Number of parameters: 6442\n",
      "Train Epoch 1\n"
     ]
    },
    {
     "name": "stderr",
     "output_type": "stream",
     "text": [
      "loss: 0.6599: 100%|█████████████████████████████████████████████| 235/235 [00:31<00:00,  7.34it/s]\n"
     ]
    },
    {
     "name": "stdout",
     "output_type": "stream",
     "text": [
      "Train loss: 0.7866, Train accuracy: 75.39%\n",
      "Test loss: 0.7776, Test accuracy: 75.80%\n"
     ]
    }
   ],
   "source": [
    "model_fcn = FCN(28 * 28)\n",
    "model_fcn.to(device)\n",
    "optimizer = torch.optim.Adam(model_fcn.parameters(), lr=1e-3)\n",
    "print(\"Number of parameters: {}\".format(get_n_params(model_fcn)))\n",
    "\n",
    "for epoch in range(epochs):\n",
    "    train(epoch + 1, model_fcn, optimizer)\n",
    "    train_loss, fcn_train_acc = test(model_fcn, train_loader)\n",
    "    print(f\"Train loss: {train_loss:.4f}, Train accuracy: {fcn_train_acc:.2f}%\")\n",
    "    test_loss, fcn_test_acc = test(model_fcn, test_loader)\n",
    "    print(f\"Test loss: {test_loss:.4f}, Test accuracy: {fcn_test_acc:.2f}%\")"
   ]
  },
  {
   "cell_type": "markdown",
   "id": "f339db04-ec79-486f-8b24-feb1a32fedc1",
   "metadata": {
    "canvas": {
     "comments": [],
     "componentType": "CodeCell",
     "copiedOriginId": null,
     "headerColor": "none",
     "id": "8143115c-9975-42d6-8329-f21ceef65b1a",
     "isComponent": false,
     "name": "",
     "parents": []
    }
   },
   "source": [
    "### Visualize results"
   ]
  },
  {
   "cell_type": "code",
   "execution_count": 12,
   "id": "9e9da9b0-22fd-4acf-8d18-f6a874388a71",
   "metadata": {
    "canvas": {
     "comments": [],
     "componentType": "CodeCell",
     "copiedOriginId": null,
     "headerColor": "#00E3FF",
     "id": "1286907d-29ae-47f7-8c32-2e2aae713ea6",
     "isComponent": true,
     "name": "Visualize FCN result",
     "parents": [
      {
       "id": "05d3595a-0216-4508-ab71-b1c3fc00940c",
       "name": "Train FCN"
      }
     ]
    },
    "tags": []
   },
   "outputs": [
    {
     "data": {
      "image/png": "[encoded data removed]",
      "text/plain": [
       "<Figure size 864x864 with 36 Axes>"
      ]
     },
     "metadata": {
      "needs_background": "light"
     },
     "output_type": "display_data"
    }
   ],
   "source": [
    "plt.figure(figsize=(12, 12))\n",
    "for i in range(36):\n",
    "    plt.subplot(6, 6, i + 1)\n",
    "    image, label = test_loader.dataset.__getitem__(i)\n",
    "    pred = model_fcn(image)\n",
    "    _, pred = pred.max(dim=1)\n",
    "    color = \"g\" if label == pred.item() else \"r\"\n",
    "    plt.title(f\"Ans: {label}, Pred: {pred.item()}\", color=color)\n",
    "    plt.imshow(image.squeeze().numpy())\n",
    "    plt.axis(\"off\");"
   ]
  },
  {
   "cell_type": "code",
   "execution_count": 13,
   "id": "31964213-84d1-45ac-81f0-ca4cbdc77f7c",
   "metadata": {
    "canvas": {
     "comments": [],
     "componentType": "CodeCell",
     "copiedOriginId": null,
     "headerColor": "#00E3FF",
     "id": "157c99d5-cc73-43e2-b2c2-b2e7dc0584c7",
     "isComponent": true,
     "name": "Visualize CNN result",
     "parents": [
      {
       "id": "01d4c6ec-e129-4397-b816-402c0b292d88",
       "name": "Train CNN"
      }
     ]
    },
    "tags": []
   },
   "outputs": [
    {
     "data": {
      "image/png": "[encoded data removed]",
      "text/plain": [
       "<Figure size 864x864 with 36 Axes>"
      ]
     },
     "metadata": {
      "needs_background": "light"
     },
     "output_type": "display_data"
    }
   ],
   "source": [
    "plt.figure(figsize=(12, 12))\n",
    "for i in range(36):\n",
    "    plt.subplot(6, 6, i + 1)\n",
    "    image, label = test_loader.dataset.__getitem__(i)\n",
    "    pred = model_cnn(image.unsqueeze(0))\n",
    "    _, pred = pred.max(dim=1)\n",
    "    color = \"g\" if label == pred.item() else \"r\"\n",
    "    plt.title(f\"Ans: {label}, Pred: {pred.item()}\", color=color)\n",
    "    plt.imshow(image.squeeze().numpy())\n",
    "    plt.axis(\"off\");"
   ]
  },
  {
   "cell_type": "markdown",
   "id": "53b8c628-c60e-4d9f-ae9d-a6a39b1d2132",
   "metadata": {
    "canvas": {
     "comments": [],
     "componentType": "CodeCell",
     "copiedOriginId": null,
     "headerColor": "none",
     "id": "7f6e7b88-4fda-4663-94f6-042d43a87e45",
     "isComponent": false,
     "name": "",
     "parents": []
    }
   },
   "source": [
    "### Compare the performance of FCN and CNN, which is better?"
   ]
  }
 ],
 "metadata": {
  "canvas": {
   "parameters": [
    {
     "name": "fcn_hidden",
     "type": "int",
     "value": "8"
    },
    {
     "name": "cnn_hidden_channels",
     "type": "int",
     "value": "8"
    },
    {
     "name": "cnn_kernel_size",
     "type": "int",
     "value": "5"
    },
    {
     "name": "epochs",
     "type": "int",
     "value": "1"
    }
   ],
   "version": "1.0"
  },
  "kernelspec": {
   "display_name": "Python 3 (ipykernel)",
   "language": "python",
   "name": "python3"
  },
  "language_info": {
   "codemirror_mode": {
    "name": "ipython",
    "version": 3
   },
   "file_extension": ".py",
   "mimetype": "text/x-python",
   "name": "python",
   "nbconvert_exporter": "python",
   "pygments_lexer": "ipython3",
   "version": "3.9.5"
  }
 },
 "nbformat": 4,
 "nbformat_minor": 5
}
